{
  "nbformat": 4,
  "nbformat_minor": 0,
  "metadata": {
    "colab": {
      "provenance": [],
      "toc_visible": true,
      "authorship_tag": "ABX9TyPRUDMKBfBg55y4QI9Ar9Kn",
      "include_colab_link": true
    },
    "kernelspec": {
      "name": "ir",
      "display_name": "R"
    },
    "language_info": {
      "name": "R"
    }
  },
  "cells": [
    {
      "cell_type": "markdown",
      "metadata": {
        "id": "view-in-github",
        "colab_type": "text"
      },
      "source": [
        "<a href=\"https://colab.research.google.com/github/wiramonwrm/data-analytics/blob/main/R_cheat_sheet.ipynb\" target=\"_parent\"><img src=\"https://colab.research.google.com/assets/colab-badge.svg\" alt=\"Open In Colab\"/></a>"
      ]
    },
    {
      "cell_type": "code",
      "source": [
        "# Basic calculation in R\n",
        "\n",
        "1+1\n",
        "2-5\n",
        "5*2\n",
        "5/2\n",
        "5**2\n",
        "5%%2"
      ],
      "metadata": {
        "colab": {
          "base_uri": "https://localhost:8080/",
          "height": 121
        },
        "id": "ruYGYYiT_zr3",
        "outputId": "60d4f6d0-894a-481c-8c9c-fc2d9b222373"
      },
      "execution_count": 1,
      "outputs": [
        {
          "output_type": "display_data",
          "data": {
            "text/html": [
              "2"
            ],
            "text/markdown": "2",
            "text/latex": "2",
            "text/plain": [
              "[1] 2"
            ]
          },
          "metadata": {}
        },
        {
          "output_type": "display_data",
          "data": {
            "text/html": [
              "-3"
            ],
            "text/markdown": "-3",
            "text/latex": "-3",
            "text/plain": [
              "[1] -3"
            ]
          },
          "metadata": {}
        },
        {
          "output_type": "display_data",
          "data": {
            "text/html": [
              "10"
            ],
            "text/markdown": "10",
            "text/latex": "10",
            "text/plain": [
              "[1] 10"
            ]
          },
          "metadata": {}
        },
        {
          "output_type": "display_data",
          "data": {
            "text/html": [
              "2.5"
            ],
            "text/markdown": "2.5",
            "text/latex": "2.5",
            "text/plain": [
              "[1] 2.5"
            ]
          },
          "metadata": {}
        },
        {
          "output_type": "display_data",
          "data": {
            "text/html": [
              "25"
            ],
            "text/markdown": "25",
            "text/latex": "25",
            "text/plain": [
              "[1] 25"
            ]
          },
          "metadata": {}
        },
        {
          "output_type": "display_data",
          "data": {
            "text/html": [
              "1"
            ],
            "text/markdown": "1",
            "text/latex": "1",
            "text/plain": [
              "[1] 1"
            ]
          },
          "metadata": {}
        }
      ]
    },
    {
      "cell_type": "code",
      "source": [
        "## Variables\n",
        "\n",
        "# assign variables\n",
        "income = 5000\n",
        "expense <- 2000\n",
        "saving <- income - expense\n",
        "name = \"John\"\n",
        "is_human = TRUE\n",
        "today_date = as.Date(\"2024-07-02\")"
      ],
      "metadata": {
        "id": "2KaZDBFa__lA"
      },
      "execution_count": 16,
      "outputs": []
    },
    {
      "cell_type": "code",
      "source": [
        "saving"
      ],
      "metadata": {
        "colab": {
          "base_uri": "https://localhost:8080/",
          "height": 34
        },
        "id": "d2IVAThiAPwi",
        "outputId": "b36c4302-970c-465d-da51-0b9fab28fbd3"
      },
      "execution_count": 14,
      "outputs": [
        {
          "output_type": "display_data",
          "data": {
            "text/html": [
              "3000"
            ],
            "text/markdown": "3000",
            "text/latex": "3000",
            "text/plain": [
              "[1] 3000"
            ]
          },
          "metadata": {}
        }
      ]
    },
    {
      "cell_type": "code",
      "source": [
        "# remove vairables\n",
        "rm(saving)"
      ],
      "metadata": {
        "id": "PL8D8QS_AWnE"
      },
      "execution_count": 15,
      "outputs": []
    },
    {
      "cell_type": "code",
      "source": [
        "# check data types\n",
        "class(expense)\n",
        "class(name)\n",
        "class(is_human)\n",
        "class(today_date)"
      ],
      "metadata": {
        "colab": {
          "base_uri": "https://localhost:8080/",
          "height": 86
        },
        "id": "K1ADIjQ4ArtK",
        "outputId": "e6776f1b-890b-4610-932d-97d2c114fa9c"
      },
      "execution_count": 18,
      "outputs": [
        {
          "output_type": "display_data",
          "data": {
            "text/html": [
              "'numeric'"
            ],
            "text/markdown": "'numeric'",
            "text/latex": "'numeric'",
            "text/plain": [
              "[1] \"numeric\""
            ]
          },
          "metadata": {}
        },
        {
          "output_type": "display_data",
          "data": {
            "text/html": [
              "'character'"
            ],
            "text/markdown": "'character'",
            "text/latex": "'character'",
            "text/plain": [
              "[1] \"character\""
            ]
          },
          "metadata": {}
        },
        {
          "output_type": "display_data",
          "data": {
            "text/html": [
              "'logical'"
            ],
            "text/markdown": "'logical'",
            "text/latex": "'logical'",
            "text/plain": [
              "[1] \"logical\""
            ]
          },
          "metadata": {}
        },
        {
          "output_type": "display_data",
          "data": {
            "text/html": [
              "'Date'"
            ],
            "text/markdown": "'Date'",
            "text/latex": "'Date'",
            "text/plain": [
              "[1] \"Date\""
            ]
          },
          "metadata": {}
        }
      ]
    },
    {
      "cell_type": "code",
      "source": [
        "# change data tpyes\n",
        "age = \"35\"\n",
        "class(age)\n",
        "age = as.numeric(age)\n",
        "class(age)"
      ],
      "metadata": {
        "colab": {
          "base_uri": "https://localhost:8080/",
          "height": 52
        },
        "id": "EQmWqMiEA2ql",
        "outputId": "01d67b37-c10d-4a5f-faae-90f938674d18"
      },
      "execution_count": 21,
      "outputs": [
        {
          "output_type": "display_data",
          "data": {
            "text/html": [
              "'character'"
            ],
            "text/markdown": "'character'",
            "text/latex": "'character'",
            "text/plain": [
              "[1] \"character\""
            ]
          },
          "metadata": {}
        },
        {
          "output_type": "display_data",
          "data": {
            "text/html": [
              "'numeric'"
            ],
            "text/markdown": "'numeric'",
            "text/latex": "'numeric'",
            "text/plain": [
              "[1] \"numeric\""
            ]
          },
          "metadata": {}
        }
      ]
    },
    {
      "cell_type": "code",
      "source": [
        "## Data Structures\n",
        "\n",
        "# 1. vector\n",
        "\n",
        "friends = c(\"James\", \"Mary\", \"Alex\", \"Joe\", \"Jane\")\n",
        "ages = c(30,31,32,33,34)\n",
        "own_a_pet =c(T, F, F, T, T)\n",
        "city = c(\"London\",\"Munich\",\"Paris\",\"Bangkok\",\"Berlin\")"
      ],
      "metadata": {
        "id": "Hdk-p5UABEyy"
      },
      "execution_count": 29,
      "outputs": []
    },
    {
      "cell_type": "code",
      "source": [
        "# 2. matrix - 2D vector\n",
        "\n",
        "m1 = matrix(1:4, ncol=2)\n",
        "\n",
        "m2 = matrix(c(5,5,2,1), ncol=2)"
      ],
      "metadata": {
        "id": "TAbRvwjvBgjK"
      },
      "execution_count": 31,
      "outputs": []
    },
    {
      "cell_type": "code",
      "source": [
        "# 3. List\n",
        "\n",
        "# key-value data structure\n",
        "John = list(\n",
        "  first_name = \"John\",\n",
        "  last_name = \"Wick\",\n",
        "  age = 50,\n",
        "  country = \"USA\",\n",
        "  salary = 10000,\n",
        "  marvel_fan = TRUE,\n",
        "  marvel_movies = c(\"Thor\", \"Loki\", \"Iron Man\")\n",
        ")\n",
        "\n",
        "Mary = list(\n",
        "  first_name = \"Mary\",\n",
        "  last_name = \"Wick\",\n",
        "  age = 60,\n",
        "  country = \"Germany\",\n",
        "  salary = 12000,\n",
        "  marvel_fan = TRUE,\n",
        "  marvel_movies = c(\"Thor2\", \"Loki2\", \"Iron Man2\")\n",
        ")\n",
        "\n",
        "# nested list\n",
        "customers = list(\n",
        "                id_01 = John,\n",
        "                id_02 = Mary)"
      ],
      "metadata": {
        "id": "9U3fTu3wBqGR"
      },
      "execution_count": 30,
      "outputs": []
    },
    {
      "cell_type": "code",
      "source": [
        "# 4. data Frame\n",
        "\n",
        "# create a data frame\n",
        "\n",
        "id = 1:5\n",
        "df = data.frame(id, friends, ages, own_a_pet, city)\n",
        "\n",
        "# create new column\n",
        "\n",
        "df$fav_menu = c(\"Brezel\", \"Steak\", \"Pizza\", \"Pizza\", \"Sushi\")\n",
        "\n",
        "# remove column\n",
        "\n",
        "df$fav_menu = NULL\n",
        "\n",
        "# write csv file\n",
        "\n",
        "write.csv(df, \"result.csv\", row.names = F)\n",
        "\n",
        "# read csv file\n",
        "\n",
        "df = read.csv(\"result.csv\")\n"
      ],
      "metadata": {
        "id": "kVzTz7R3Clj0"
      },
      "execution_count": 47,
      "outputs": []
    },
    {
      "cell_type": "code",
      "source": [
        "# query by position\n",
        "\n",
        "df[1:2]"
      ],
      "metadata": {
        "colab": {
          "base_uri": "https://localhost:8080/",
          "height": 255
        },
        "id": "v4uXfMLoDDGj",
        "outputId": "2d03f682-eb16-45e8-e8c5-c4a43fdeb76e"
      },
      "execution_count": 40,
      "outputs": [
        {
          "output_type": "display_data",
          "data": {
            "text/html": [
              "<table class=\"dataframe\">\n",
              "<caption>A data.frame: 5 × 2</caption>\n",
              "<thead>\n",
              "\t<tr><th scope=col>id</th><th scope=col>friends</th></tr>\n",
              "\t<tr><th scope=col>&lt;int&gt;</th><th scope=col>&lt;chr&gt;</th></tr>\n",
              "</thead>\n",
              "<tbody>\n",
              "\t<tr><td>1</td><td>James</td></tr>\n",
              "\t<tr><td>2</td><td>Mary </td></tr>\n",
              "\t<tr><td>3</td><td>Alex </td></tr>\n",
              "\t<tr><td>4</td><td>Joe  </td></tr>\n",
              "\t<tr><td>5</td><td>Jane </td></tr>\n",
              "</tbody>\n",
              "</table>\n"
            ],
            "text/markdown": "\nA data.frame: 5 × 2\n\n| id &lt;int&gt; | friends &lt;chr&gt; |\n|---|---|\n| 1 | James |\n| 2 | Mary  |\n| 3 | Alex  |\n| 4 | Joe   |\n| 5 | Jane  |\n\n",
            "text/latex": "A data.frame: 5 × 2\n\\begin{tabular}{ll}\n id & friends\\\\\n <int> & <chr>\\\\\n\\hline\n\t 1 & James\\\\\n\t 2 & Mary \\\\\n\t 3 & Alex \\\\\n\t 4 & Joe  \\\\\n\t 5 & Jane \\\\\n\\end{tabular}\n",
            "text/plain": [
              "  id friends\n",
              "1 1  James  \n",
              "2 2  Mary   \n",
              "3 3  Alex   \n",
              "4 4  Joe    \n",
              "5 5  Jane   "
            ]
          },
          "metadata": {}
        }
      ]
    },
    {
      "cell_type": "code",
      "source": [
        "# query by name\n",
        "df$own_a_pet"
      ],
      "metadata": {
        "colab": {
          "base_uri": "https://localhost:8080/",
          "height": 34
        },
        "id": "rLPuyCQ2Dbd7",
        "outputId": "c750b351-ba91-42be-8416-b060f2963d86"
      },
      "execution_count": 43,
      "outputs": [
        {
          "output_type": "display_data",
          "data": {
            "text/html": [
              "<style>\n",
              ".list-inline {list-style: none; margin:0; padding: 0}\n",
              ".list-inline>li {display: inline-block}\n",
              ".list-inline>li:not(:last-child)::after {content: \"\\00b7\"; padding: 0 .5ex}\n",
              "</style>\n",
              "<ol class=list-inline><li>TRUE</li><li>FALSE</li><li>FALSE</li><li>TRUE</li><li>TRUE</li></ol>\n"
            ],
            "text/markdown": "1. TRUE\n2. FALSE\n3. FALSE\n4. TRUE\n5. TRUE\n\n\n",
            "text/latex": "\\begin{enumerate*}\n\\item TRUE\n\\item FALSE\n\\item FALSE\n\\item TRUE\n\\item TRUE\n\\end{enumerate*}\n",
            "text/plain": [
              "[1]  TRUE FALSE FALSE  TRUE  TRUE"
            ]
          },
          "metadata": {}
        }
      ]
    },
    {
      "cell_type": "code",
      "source": [
        "# query by condition\n",
        "\n",
        "df[ df$own_a_pet == TRUE ]"
      ],
      "metadata": {
        "colab": {
          "base_uri": "https://localhost:8080/",
          "height": 255
        },
        "id": "rHEyueC5DXJ9",
        "outputId": "305abff3-bf5a-42e1-a902-92e30b7e3304"
      },
      "execution_count": 44,
      "outputs": [
        {
          "output_type": "display_data",
          "data": {
            "text/html": [
              "<table class=\"dataframe\">\n",
              "<caption>A data.frame: 5 × 3</caption>\n",
              "<thead>\n",
              "\t<tr><th scope=col>id</th><th scope=col>own_a_pet</th><th scope=col>city</th></tr>\n",
              "\t<tr><th scope=col>&lt;int&gt;</th><th scope=col>&lt;lgl&gt;</th><th scope=col>&lt;chr&gt;</th></tr>\n",
              "</thead>\n",
              "<tbody>\n",
              "\t<tr><td>1</td><td> TRUE</td><td>London </td></tr>\n",
              "\t<tr><td>2</td><td>FALSE</td><td>Munich </td></tr>\n",
              "\t<tr><td>3</td><td>FALSE</td><td>Paris  </td></tr>\n",
              "\t<tr><td>4</td><td> TRUE</td><td>Bangkok</td></tr>\n",
              "\t<tr><td>5</td><td> TRUE</td><td>Berlin </td></tr>\n",
              "</tbody>\n",
              "</table>\n"
            ],
            "text/markdown": "\nA data.frame: 5 × 3\n\n| id &lt;int&gt; | own_a_pet &lt;lgl&gt; | city &lt;chr&gt; |\n|---|---|---|\n| 1 |  TRUE | London  |\n| 2 | FALSE | Munich  |\n| 3 | FALSE | Paris   |\n| 4 |  TRUE | Bangkok |\n| 5 |  TRUE | Berlin  |\n\n",
            "text/latex": "A data.frame: 5 × 3\n\\begin{tabular}{lll}\n id & own\\_a\\_pet & city\\\\\n <int> & <lgl> & <chr>\\\\\n\\hline\n\t 1 &  TRUE & London \\\\\n\t 2 & FALSE & Munich \\\\\n\t 3 & FALSE & Paris  \\\\\n\t 4 &  TRUE & Bangkok\\\\\n\t 5 &  TRUE & Berlin \\\\\n\\end{tabular}\n",
            "text/plain": [
              "  id own_a_pet city   \n",
              "1 1   TRUE     London \n",
              "2 2  FALSE     Munich \n",
              "3 3  FALSE     Paris  \n",
              "4 4   TRUE     Bangkok\n",
              "5 5   TRUE     Berlin "
            ]
          },
          "metadata": {}
        }
      ]
    },
    {
      "cell_type": "code",
      "execution_count": 48,
      "metadata": {
        "id": "hQxRi-pgNJtD"
      },
      "outputs": [],
      "source": [
        "# create a function\n",
        "\n",
        "greeting_name = function(name) {\n",
        "    text = paste0(\"Hello \", name)\n",
        "    print(text)\n",
        "}"
      ]
    },
    {
      "cell_type": "code",
      "source": [
        "greeting_name(\"John\")"
      ],
      "metadata": {
        "colab": {
          "base_uri": "https://localhost:8080/"
        },
        "id": "o5_W5ZpONx4a",
        "outputId": "08052b35-151b-4fb0-d40c-a6b197d5fe46"
      },
      "execution_count": 49,
      "outputs": [
        {
          "output_type": "stream",
          "name": "stdout",
          "text": [
            "[1] \"Hello John\"\n"
          ]
        }
      ]
    },
    {
      "cell_type": "code",
      "source": [
        "add_to_num = function(x=10,y=20) {\n",
        "  return(x+y)\n",
        "}"
      ],
      "metadata": {
        "id": "2EoCcHNRN6XQ"
      },
      "execution_count": 52,
      "outputs": []
    },
    {
      "cell_type": "code",
      "source": [
        "cube = function(base,power=3) {\n",
        "  base**power #return is not needed\n",
        "}"
      ],
      "metadata": {
        "id": "M-BWEjxyOQZD"
      },
      "execution_count": 50,
      "outputs": []
    },
    {
      "cell_type": "code",
      "source": [
        "cube2 = function(base,power=3) base**power"
      ],
      "metadata": {
        "id": "tuoMJTX1OUD4"
      },
      "execution_count": 51,
      "outputs": []
    },
    {
      "cell_type": "code",
      "source": [
        "cube(5) == cube2(5)"
      ],
      "metadata": {
        "colab": {
          "base_uri": "https://localhost:8080/",
          "height": 34
        },
        "id": "tkRcEdidO5z6",
        "outputId": "648da992-3d90-45e9-f9bf-22b375500844"
      },
      "execution_count": 53,
      "outputs": [
        {
          "output_type": "display_data",
          "data": {
            "text/html": [
              "TRUE"
            ],
            "text/markdown": "TRUE",
            "text/latex": "TRUE",
            "text/plain": [
              "[1] TRUE"
            ]
          },
          "metadata": {}
        }
      ]
    },
    {
      "cell_type": "code",
      "source": [
        "## Control flow\n",
        "# if\n",
        "\n",
        "ifelse(10>2, T,F)"
      ],
      "metadata": {
        "colab": {
          "base_uri": "https://localhost:8080/",
          "height": 34
        },
        "id": "pMTzToDwPNPe",
        "outputId": "0121ce5f-c0d2-4fc7-c791-46cf7199c340"
      },
      "execution_count": 54,
      "outputs": [
        {
          "output_type": "display_data",
          "data": {
            "text/html": [
              "TRUE"
            ],
            "text/markdown": "TRUE",
            "text/latex": "TRUE",
            "text/plain": [
              "[1] TRUE"
            ]
          },
          "metadata": {}
        }
      ]
    },
    {
      "cell_type": "code",
      "source": [
        "score = 180\n",
        "\n",
        "if(score >= 200) {\n",
        "  print(\"passed\")\n",
        "} else if(score >= 150){\n",
        "  print(\"almost failed\")\n",
        "} else {\n",
        "  print(\"failed\")\n",
        "}"
      ],
      "metadata": {
        "colab": {
          "base_uri": "https://localhost:8080/"
        },
        "id": "bjJQ6_jmPvHp",
        "outputId": "d836b8e0-1939-461c-bde4-5556abf17736"
      },
      "execution_count": 55,
      "outputs": [
        {
          "output_type": "stream",
          "name": "stdout",
          "text": [
            "[1] \"almost failed\"\n"
          ]
        }
      ]
    },
    {
      "cell_type": "code",
      "source": [
        "#for loop\n",
        "\n",
        "nums = c(25, 30, 40, 100, 1225)\n",
        "\n",
        "for (i in nums) {\n",
        " if(i %%2 == 0){\n",
        "  print(paste0(i, \" is even\"))\n",
        " } else {\n",
        "  print(\"odd\")\n",
        " }\n",
        "}"
      ],
      "metadata": {
        "colab": {
          "base_uri": "https://localhost:8080/"
        },
        "id": "poLNvIBRRI8o",
        "outputId": "f3e31885-87b7-438a-d377-b649ac3b967d"
      },
      "execution_count": 56,
      "outputs": [
        {
          "output_type": "stream",
          "name": "stdout",
          "text": [
            "[1] \"odd\"\n",
            "[1] \"30 is even\"\n",
            "[1] \"40 is even\"\n",
            "[1] \"100 is even\"\n",
            "[1] \"odd\"\n"
          ]
        }
      ]
    },
    {
      "cell_type": "code",
      "source": [
        "# while loop\n",
        "\n",
        "count = 0\n",
        "\n",
        "while(count<5){\n",
        "  print(\"Woo\")\n",
        "  count=count+1\n",
        "}"
      ],
      "metadata": {
        "colab": {
          "base_uri": "https://localhost:8080/"
        },
        "id": "1gPUkSc2RPCi",
        "outputId": "99e25d57-ac2a-43ef-9bea-1c11a73038a4"
      },
      "execution_count": 57,
      "outputs": [
        {
          "output_type": "stream",
          "name": "stdout",
          "text": [
            "[1] \"Woo\"\n",
            "[1] \"Woo\"\n",
            "[1] \"Woo\"\n",
            "[1] \"Woo\"\n",
            "[1] \"Woo\"\n"
          ]
        }
      ]
    },
    {
      "cell_type": "code",
      "source": [
        "## Take input from a user -> input = character.\n",
        "\n",
        "name = readline(\" What is your name?: \")\n",
        "greeting_name(name)"
      ],
      "metadata": {
        "colab": {
          "base_uri": "https://localhost:8080/"
        },
        "id": "gnaBjnOSSs0C",
        "outputId": "3415391b-2b39-4125-e680-45c08cf443c0"
      },
      "execution_count": 59,
      "outputs": [
        {
          "output_type": "stream",
          "name": "stdout",
          "text": [
            " What is your name?: x\n",
            "[1] \"Hello x\"\n"
          ]
        }
      ]
    },
    {
      "cell_type": "code",
      "source": [
        "# login logic\n",
        "\n",
        "users = c(\"Joe\",\"John\",\"Mary\")\n",
        "\n",
        "loggging_in = function() {\n",
        "  print(\"WELCOME\")\n",
        "  username=readline(\"Username : \")\n",
        "  password=readline(\"Password : \")\n",
        "  if((username %in% users) & (password ==\"1234\")){\n",
        "    print(\"logged in successfully\")\n",
        "  }\n",
        "  else {\n",
        "    print(\"you scam!!\")\n",
        "  }\n",
        "}"
      ],
      "metadata": {
        "id": "JctNVUPdSx-t"
      },
      "execution_count": 60,
      "outputs": []
    },
    {
      "cell_type": "code",
      "source": [
        "loggging_in()"
      ],
      "metadata": {
        "colab": {
          "base_uri": "https://localhost:8080/"
        },
        "id": "66SqqPaATjH_",
        "outputId": "43c6a484-e675-4c5a-add9-5892c94edb2c"
      },
      "execution_count": 61,
      "outputs": [
        {
          "output_type": "stream",
          "name": "stdout",
          "text": [
            "Username : x\n",
            "Password : 1234\n",
            "[1] \"WELCOME\"\n",
            "[1] \"you scam!!\"\n"
          ]
        }
      ]
    },
    {
      "cell_type": "code",
      "source": [
        "loggging_in()"
      ],
      "metadata": {
        "colab": {
          "base_uri": "https://localhost:8080/"
        },
        "id": "MclVhKYETlUJ",
        "outputId": "91b450f8-8779-4ed0-dbae-07a0f3781e40"
      },
      "execution_count": 62,
      "outputs": [
        {
          "output_type": "stream",
          "name": "stdout",
          "text": [
            "Username : Joe\n",
            "Password : 1234\n",
            "[1] \"WELCOME\"\n",
            "[1] \"logged in successfully\"\n"
          ]
        }
      ]
    },
    {
      "cell_type": "code",
      "source": [
        "## install libraries\n",
        "\n",
        "install.packages(\"tidyverse\")\n",
        "install.packages(\"RSQLite\")\n",
        "install.packages(\"readxl\")\n",
        "install.packages(\"jsonlite\")"
      ],
      "metadata": {
        "colab": {
          "base_uri": "https://localhost:8080/"
        },
        "id": "miA4jwWZT6hA",
        "outputId": "d1bfad1c-82e2-4d07-9c2d-50249b581d22"
      },
      "execution_count": 63,
      "outputs": [
        {
          "output_type": "stream",
          "name": "stderr",
          "text": [
            "Installing package into ‘/usr/local/lib/R/site-library’\n",
            "(as ‘lib’ is unspecified)\n",
            "\n",
            "Installing package into ‘/usr/local/lib/R/site-library’\n",
            "(as ‘lib’ is unspecified)\n",
            "\n",
            "also installing the dependency ‘plogr’\n",
            "\n",
            "\n",
            "Installing package into ‘/usr/local/lib/R/site-library’\n",
            "(as ‘lib’ is unspecified)\n",
            "\n",
            "Installing package into ‘/usr/local/lib/R/site-library’\n",
            "(as ‘lib’ is unspecified)\n",
            "\n"
          ]
        }
      ]
    },
    {
      "cell_type": "code",
      "source": [
        "## load libraries\n",
        "\n",
        "library(tidyverse)\n",
        "library(glue)\n",
        "library(RSQLite)\n",
        "library(readxl)\n",
        "library(jsonlite)"
      ],
      "metadata": {
        "id": "C4j-FIL4hus7",
        "colab": {
          "base_uri": "https://localhost:8080/"
        },
        "outputId": "14b31d45-a34b-4678-c490-09daa9768091"
      },
      "execution_count": 65,
      "outputs": [
        {
          "output_type": "stream",
          "name": "stderr",
          "text": [
            "── \u001b[1mAttaching core tidyverse packages\u001b[22m ──────────────────────── tidyverse 2.0.0 ──\n",
            "\u001b[32m✔\u001b[39m \u001b[34mdplyr    \u001b[39m 1.1.4     \u001b[32m✔\u001b[39m \u001b[34mreadr    \u001b[39m 2.1.5\n",
            "\u001b[32m✔\u001b[39m \u001b[34mforcats  \u001b[39m 1.0.0     \u001b[32m✔\u001b[39m \u001b[34mstringr  \u001b[39m 1.5.1\n",
            "\u001b[32m✔\u001b[39m \u001b[34mggplot2  \u001b[39m 3.5.1     \u001b[32m✔\u001b[39m \u001b[34mtibble   \u001b[39m 3.2.1\n",
            "\u001b[32m✔\u001b[39m \u001b[34mlubridate\u001b[39m 1.9.3     \u001b[32m✔\u001b[39m \u001b[34mtidyr    \u001b[39m 1.3.1\n",
            "\u001b[32m✔\u001b[39m \u001b[34mpurrr    \u001b[39m 1.0.2     \n",
            "── \u001b[1mConflicts\u001b[22m ────────────────────────────────────────── tidyverse_conflicts() ──\n",
            "\u001b[31m✖\u001b[39m \u001b[34mdplyr\u001b[39m::\u001b[32mfilter()\u001b[39m masks \u001b[34mstats\u001b[39m::filter()\n",
            "\u001b[31m✖\u001b[39m \u001b[34mdplyr\u001b[39m::\u001b[32mlag()\u001b[39m    masks \u001b[34mstats\u001b[39m::lag()\n",
            "\u001b[36mℹ\u001b[39m Use the conflicted package (\u001b[3m\u001b[34m<http://conflicted.r-lib.org/>\u001b[39m\u001b[23m) to force all conflicts to become errors\n",
            "\n",
            "Attaching package: ‘jsonlite’\n",
            "\n",
            "\n",
            "The following object is masked from ‘package:purrr’:\n",
            "\n",
            "    flatten\n",
            "\n",
            "\n"
          ]
        }
      ]
    },
    {
      "cell_type": "code",
      "source": [
        "# glue => string template\n",
        "\n",
        "name = \"Joe\"\n",
        "age = 55\n",
        "glue(\"Hello, my name is {name}, I am {age} years old\")\n",
        "paste0(\"Hello, my name is \", name, \", I am \", age, \" years old\") #much longer"
      ],
      "metadata": {
        "colab": {
          "base_uri": "https://localhost:8080/",
          "height": 52
        },
        "id": "yOlNhCIqh4_D",
        "outputId": "8415886d-ca39-4a9d-c432-fceb4ebaa12d"
      },
      "execution_count": 66,
      "outputs": [
        {
          "output_type": "display_data",
          "data": {
            "text/html": [
              "'Hello, my name is Joe, I am 55 years old'"
            ],
            "text/markdown": "'Hello, my name is Joe, I am 55 years old'",
            "text/latex": "'Hello, my name is Joe, I am 55 years old'",
            "text/plain": [
              "Hello, my name is Joe, I am 55 years old"
            ]
          },
          "metadata": {}
        },
        {
          "output_type": "display_data",
          "data": {
            "text/html": [
              "'Hello, my name is Joe, I am 55 years old'"
            ],
            "text/markdown": "'Hello, my name is Joe, I am 55 years old'",
            "text/latex": "'Hello, my name is Joe, I am 55 years old'",
            "text/plain": [
              "[1] \"Hello, my name is Joe, I am 55 years old\""
            ]
          },
          "metadata": {}
        }
      ]
    },
    {
      "cell_type": "code",
      "source": [
        "# check path\n",
        "\n",
        "getwd()"
      ],
      "metadata": {
        "colab": {
          "base_uri": "https://localhost:8080/",
          "height": 34
        },
        "id": "iAdL18_sjHxl",
        "outputId": "396c50d3-875c-4133-91ae-1acb0b552d14"
      },
      "execution_count": 67,
      "outputs": [
        {
          "output_type": "display_data",
          "data": {
            "text/html": [
              "'/content'"
            ],
            "text/markdown": "'/content'",
            "text/latex": "'/content'",
            "text/plain": [
              "[1] \"/content\""
            ]
          },
          "metadata": {}
        }
      ]
    },
    {
      "cell_type": "code",
      "source": [
        "## Connect sqlite database\n",
        "\n",
        "con = dbConnect(SQLite(),\"chinook.db\")"
      ],
      "metadata": {
        "id": "ZU9ojmNIiT5D"
      },
      "execution_count": 68,
      "outputs": []
    },
    {
      "cell_type": "code",
      "source": [
        "# check all tables\n",
        "\n",
        "dbListTables(con)"
      ],
      "metadata": {
        "colab": {
          "base_uri": "https://localhost:8080/",
          "height": 34
        },
        "id": "2Zq5wAmOjUcH",
        "outputId": "18db03c2-fedd-49e2-fc8c-919ed45c9e7c"
      },
      "execution_count": 69,
      "outputs": [
        {
          "output_type": "display_data",
          "data": {
            "text/html": [
              "<style>\n",
              ".list-inline {list-style: none; margin:0; padding: 0}\n",
              ".list-inline>li {display: inline-block}\n",
              ".list-inline>li:not(:last-child)::after {content: \"\\00b7\"; padding: 0 .5ex}\n",
              "</style>\n",
              "<ol class=list-inline><li>'albums'</li><li>'artists'</li><li>'customers'</li><li>'employees'</li><li>'genres'</li><li>'invoice_items'</li><li>'invoices'</li><li>'media_types'</li><li>'playlist_track'</li><li>'playlists'</li><li>'sqlite_sequence'</li><li>'sqlite_stat1'</li><li>'tracks'</li></ol>\n"
            ],
            "text/markdown": "1. 'albums'\n2. 'artists'\n3. 'customers'\n4. 'employees'\n5. 'genres'\n6. 'invoice_items'\n7. 'invoices'\n8. 'media_types'\n9. 'playlist_track'\n10. 'playlists'\n11. 'sqlite_sequence'\n12. 'sqlite_stat1'\n13. 'tracks'\n\n\n",
            "text/latex": "\\begin{enumerate*}\n\\item 'albums'\n\\item 'artists'\n\\item 'customers'\n\\item 'employees'\n\\item 'genres'\n\\item 'invoice\\_items'\n\\item 'invoices'\n\\item 'media\\_types'\n\\item 'playlist\\_track'\n\\item 'playlists'\n\\item 'sqlite\\_sequence'\n\\item 'sqlite\\_stat1'\n\\item 'tracks'\n\\end{enumerate*}\n",
            "text/plain": [
              " [1] \"albums\"          \"artists\"         \"customers\"       \"employees\"      \n",
              " [5] \"genres\"          \"invoice_items\"   \"invoices\"        \"media_types\"    \n",
              " [9] \"playlist_track\"  \"playlists\"       \"sqlite_sequence\" \"sqlite_stat1\"   \n",
              "[13] \"tracks\"         "
            ]
          },
          "metadata": {}
        }
      ]
    },
    {
      "cell_type": "code",
      "source": [
        "# check column names in a table\n",
        "\n",
        "dbListFields(con,\"customers\")"
      ],
      "metadata": {
        "colab": {
          "base_uri": "https://localhost:8080/",
          "height": 34
        },
        "id": "HW7SojP_jWFc",
        "outputId": "408b420b-5ff5-404c-9575-9e49a18cd48a"
      },
      "execution_count": 70,
      "outputs": [
        {
          "output_type": "display_data",
          "data": {
            "text/html": [
              "<style>\n",
              ".list-inline {list-style: none; margin:0; padding: 0}\n",
              ".list-inline>li {display: inline-block}\n",
              ".list-inline>li:not(:last-child)::after {content: \"\\00b7\"; padding: 0 .5ex}\n",
              "</style>\n",
              "<ol class=list-inline><li>'CustomerId'</li><li>'FirstName'</li><li>'LastName'</li><li>'Company'</li><li>'Address'</li><li>'City'</li><li>'State'</li><li>'Country'</li><li>'PostalCode'</li><li>'Phone'</li><li>'Fax'</li><li>'Email'</li><li>'SupportRepId'</li></ol>\n"
            ],
            "text/markdown": "1. 'CustomerId'\n2. 'FirstName'\n3. 'LastName'\n4. 'Company'\n5. 'Address'\n6. 'City'\n7. 'State'\n8. 'Country'\n9. 'PostalCode'\n10. 'Phone'\n11. 'Fax'\n12. 'Email'\n13. 'SupportRepId'\n\n\n",
            "text/latex": "\\begin{enumerate*}\n\\item 'CustomerId'\n\\item 'FirstName'\n\\item 'LastName'\n\\item 'Company'\n\\item 'Address'\n\\item 'City'\n\\item 'State'\n\\item 'Country'\n\\item 'PostalCode'\n\\item 'Phone'\n\\item 'Fax'\n\\item 'Email'\n\\item 'SupportRepId'\n\\end{enumerate*}\n",
            "text/plain": [
              " [1] \"CustomerId\"   \"FirstName\"    \"LastName\"     \"Company\"      \"Address\"     \n",
              " [6] \"City\"         \"State\"        \"Country\"      \"PostalCode\"   \"Phone\"       \n",
              "[11] \"Fax\"          \"Email\"        \"SupportRepId\""
            ]
          },
          "metadata": {}
        }
      ]
    },
    {
      "cell_type": "code",
      "source": [
        "# query data from a table\n",
        "\n",
        "usa_customers = dbGetQuery(con,\"\n",
        "                  SELECT\n",
        "                    firstname,\n",
        "                    lastname,\n",
        "                    country\n",
        "                  FROM customers\n",
        "                  WHERE country = 'USA'\n",
        "                  \")"
      ],
      "metadata": {
        "id": "oYPYLilsjhC0"
      },
      "execution_count": 71,
      "outputs": []
    },
    {
      "cell_type": "code",
      "source": [
        "usa_customers"
      ],
      "metadata": {
        "colab": {
          "base_uri": "https://localhost:8080/",
          "height": 505
        },
        "id": "SC9VZJLOkInq",
        "outputId": "e91ceca9-0a03-4a59-bf54-8d09b279e613"
      },
      "execution_count": 72,
      "outputs": [
        {
          "output_type": "display_data",
          "data": {
            "text/html": [
              "<table class=\"dataframe\">\n",
              "<caption>A data.frame: 13 × 3</caption>\n",
              "<thead>\n",
              "\t<tr><th scope=col>FirstName</th><th scope=col>LastName</th><th scope=col>Country</th></tr>\n",
              "\t<tr><th scope=col>&lt;chr&gt;</th><th scope=col>&lt;chr&gt;</th><th scope=col>&lt;chr&gt;</th></tr>\n",
              "</thead>\n",
              "<tbody>\n",
              "\t<tr><td>Frank   </td><td>Harris    </td><td>USA</td></tr>\n",
              "\t<tr><td>Jack    </td><td>Smith     </td><td>USA</td></tr>\n",
              "\t<tr><td>Michelle</td><td>Brooks    </td><td>USA</td></tr>\n",
              "\t<tr><td>Tim     </td><td>Goyer     </td><td>USA</td></tr>\n",
              "\t<tr><td>Dan     </td><td>Miller    </td><td>USA</td></tr>\n",
              "\t<tr><td>Kathy   </td><td>Chase     </td><td>USA</td></tr>\n",
              "\t<tr><td>Heather </td><td>Leacock   </td><td>USA</td></tr>\n",
              "\t<tr><td>John    </td><td>Gordon    </td><td>USA</td></tr>\n",
              "\t<tr><td>Frank   </td><td>Ralston   </td><td>USA</td></tr>\n",
              "\t<tr><td>Victor  </td><td>Stevens   </td><td>USA</td></tr>\n",
              "\t<tr><td>Richard </td><td>Cunningham</td><td>USA</td></tr>\n",
              "\t<tr><td>Patrick </td><td>Gray      </td><td>USA</td></tr>\n",
              "\t<tr><td>Julia   </td><td>Barnett   </td><td>USA</td></tr>\n",
              "</tbody>\n",
              "</table>\n"
            ],
            "text/markdown": "\nA data.frame: 13 × 3\n\n| FirstName &lt;chr&gt; | LastName &lt;chr&gt; | Country &lt;chr&gt; |\n|---|---|---|\n| Frank    | Harris     | USA |\n| Jack     | Smith      | USA |\n| Michelle | Brooks     | USA |\n| Tim      | Goyer      | USA |\n| Dan      | Miller     | USA |\n| Kathy    | Chase      | USA |\n| Heather  | Leacock    | USA |\n| John     | Gordon     | USA |\n| Frank    | Ralston    | USA |\n| Victor   | Stevens    | USA |\n| Richard  | Cunningham | USA |\n| Patrick  | Gray       | USA |\n| Julia    | Barnett    | USA |\n\n",
            "text/latex": "A data.frame: 13 × 3\n\\begin{tabular}{lll}\n FirstName & LastName & Country\\\\\n <chr> & <chr> & <chr>\\\\\n\\hline\n\t Frank    & Harris     & USA\\\\\n\t Jack     & Smith      & USA\\\\\n\t Michelle & Brooks     & USA\\\\\n\t Tim      & Goyer      & USA\\\\\n\t Dan      & Miller     & USA\\\\\n\t Kathy    & Chase      & USA\\\\\n\t Heather  & Leacock    & USA\\\\\n\t John     & Gordon     & USA\\\\\n\t Frank    & Ralston    & USA\\\\\n\t Victor   & Stevens    & USA\\\\\n\t Richard  & Cunningham & USA\\\\\n\t Patrick  & Gray       & USA\\\\\n\t Julia    & Barnett    & USA\\\\\n\\end{tabular}\n",
            "text/plain": [
              "   FirstName LastName   Country\n",
              "1  Frank     Harris     USA    \n",
              "2  Jack      Smith      USA    \n",
              "3  Michelle  Brooks     USA    \n",
              "4  Tim       Goyer      USA    \n",
              "5  Dan       Miller     USA    \n",
              "6  Kathy     Chase      USA    \n",
              "7  Heather   Leacock    USA    \n",
              "8  John      Gordon     USA    \n",
              "9  Frank     Ralston    USA    \n",
              "10 Victor    Stevens    USA    \n",
              "11 Richard   Cunningham USA    \n",
              "12 Patrick   Gray       USA    \n",
              "13 Julia     Barnett    USA    "
            ]
          },
          "metadata": {}
        }
      ]
    },
    {
      "cell_type": "code",
      "source": [
        "## Write a new table into a database\n",
        "\n",
        "branches = data.frame(\n",
        "  branch_id = 1:3,\n",
        "  branch_name = c(\"Bangkok\", \"London\", \"Tokyo\")\n",
        ")\n",
        "\n",
        "dbWriteTable(con,\"branches\",branches)"
      ],
      "metadata": {
        "id": "_XnehzrnkP1H"
      },
      "execution_count": 74,
      "outputs": []
    },
    {
      "cell_type": "code",
      "source": [
        "dbListTables(con)"
      ],
      "metadata": {
        "colab": {
          "base_uri": "https://localhost:8080/",
          "height": 34
        },
        "id": "AcyXGQnzk40j",
        "outputId": "48ce1b0b-46e8-4f2e-9b36-82eb2449de25"
      },
      "execution_count": 75,
      "outputs": [
        {
          "output_type": "display_data",
          "data": {
            "text/html": [
              "<style>\n",
              ".list-inline {list-style: none; margin:0; padding: 0}\n",
              ".list-inline>li {display: inline-block}\n",
              ".list-inline>li:not(:last-child)::after {content: \"\\00b7\"; padding: 0 .5ex}\n",
              "</style>\n",
              "<ol class=list-inline><li>'albums'</li><li>'artists'</li><li>'branches'</li><li>'customers'</li><li>'employees'</li><li>'genres'</li><li>'invoice_items'</li><li>'invoices'</li><li>'media_types'</li><li>'playlist_track'</li><li>'playlists'</li><li>'sqlite_sequence'</li><li>'sqlite_stat1'</li><li>'tracks'</li></ol>\n"
            ],
            "text/markdown": "1. 'albums'\n2. 'artists'\n3. 'branches'\n4. 'customers'\n5. 'employees'\n6. 'genres'\n7. 'invoice_items'\n8. 'invoices'\n9. 'media_types'\n10. 'playlist_track'\n11. 'playlists'\n12. 'sqlite_sequence'\n13. 'sqlite_stat1'\n14. 'tracks'\n\n\n",
            "text/latex": "\\begin{enumerate*}\n\\item 'albums'\n\\item 'artists'\n\\item 'branches'\n\\item 'customers'\n\\item 'employees'\n\\item 'genres'\n\\item 'invoice\\_items'\n\\item 'invoices'\n\\item 'media\\_types'\n\\item 'playlist\\_track'\n\\item 'playlists'\n\\item 'sqlite\\_sequence'\n\\item 'sqlite\\_stat1'\n\\item 'tracks'\n\\end{enumerate*}\n",
            "text/plain": [
              " [1] \"albums\"          \"artists\"         \"branches\"        \"customers\"      \n",
              " [5] \"employees\"       \"genres\"          \"invoice_items\"   \"invoices\"       \n",
              " [9] \"media_types\"     \"playlist_track\"  \"playlists\"       \"sqlite_sequence\"\n",
              "[13] \"sqlite_stat1\"    \"tracks\"         "
            ]
          },
          "metadata": {}
        }
      ]
    },
    {
      "cell_type": "code",
      "source": [
        "dbGetQuery(con,\"SELECT branch_name FROM branches\")"
      ],
      "metadata": {
        "colab": {
          "base_uri": "https://localhost:8080/",
          "height": 209
        },
        "id": "DlFxKUHdk6bj",
        "outputId": "8db751ab-16da-40bc-d765-53ec139bb56a"
      },
      "execution_count": 76,
      "outputs": [
        {
          "output_type": "display_data",
          "data": {
            "text/html": [
              "<table class=\"dataframe\">\n",
              "<caption>A data.frame: 3 × 1</caption>\n",
              "<thead>\n",
              "\t<tr><th scope=col>branch_name</th></tr>\n",
              "\t<tr><th scope=col>&lt;chr&gt;</th></tr>\n",
              "</thead>\n",
              "<tbody>\n",
              "\t<tr><td>Bangkok</td></tr>\n",
              "\t<tr><td>London </td></tr>\n",
              "\t<tr><td>Tokyo  </td></tr>\n",
              "</tbody>\n",
              "</table>\n"
            ],
            "text/markdown": "\nA data.frame: 3 × 1\n\n| branch_name &lt;chr&gt; |\n|---|\n| Bangkok |\n| London  |\n| Tokyo   |\n\n",
            "text/latex": "A data.frame: 3 × 1\n\\begin{tabular}{l}\n branch\\_name\\\\\n <chr>\\\\\n\\hline\n\t Bangkok\\\\\n\t London \\\\\n\t Tokyo  \\\\\n\\end{tabular}\n",
            "text/plain": [
              "  branch_name\n",
              "1 Bangkok    \n",
              "2 London     \n",
              "3 Tokyo      "
            ]
          },
          "metadata": {}
        }
      ]
    },
    {
      "cell_type": "code",
      "source": [
        "## Remove table\n",
        "\n",
        "dbRemoveTable(con,\"branches\")"
      ],
      "metadata": {
        "id": "kMIfEGXblCGt"
      },
      "execution_count": 77,
      "outputs": []
    },
    {
      "cell_type": "code",
      "source": [
        "## Disconnect to avoid corrupted database\n",
        "\n",
        "dbDisconnect(con)"
      ],
      "metadata": {
        "id": "2CxNTl4UlGgq"
      },
      "execution_count": 78,
      "outputs": []
    },
    {
      "cell_type": "code",
      "source": [
        "## Create a new database\n",
        "# school.db does not exist beforehand\n",
        "\n",
        "con = dbConnect(SQLite(),\"school.db\")\n",
        "\n",
        "students = data.frame(\n",
        "  student_id=1:3,\n",
        "  student_name=c(\"a\",\"b\",\"c\")\n",
        ")\n",
        "\n",
        "dbWriteTable(con,\"students\",students)"
      ],
      "metadata": {
        "id": "GL5jwRkOlI5P"
      },
      "execution_count": 80,
      "outputs": []
    },
    {
      "cell_type": "code",
      "source": [
        "dbListTables(con)"
      ],
      "metadata": {
        "colab": {
          "base_uri": "https://localhost:8080/",
          "height": 34
        },
        "id": "qqRMxZM9lz7d",
        "outputId": "cf9315b5-0776-4bb2-a50d-7cf04499cc7c"
      },
      "execution_count": 81,
      "outputs": [
        {
          "output_type": "display_data",
          "data": {
            "text/html": [
              "'students'"
            ],
            "text/markdown": "'students'",
            "text/latex": "'students'",
            "text/plain": [
              "[1] \"students\""
            ]
          },
          "metadata": {}
        }
      ]
    },
    {
      "cell_type": "code",
      "source": [
        "dbListFields(con,\"students\")"
      ],
      "metadata": {
        "colab": {
          "base_uri": "https://localhost:8080/",
          "height": 34
        },
        "id": "NW-oRnGXl4CY",
        "outputId": "0d5eddd9-7f3b-4cd5-f907-91f2838a8aef"
      },
      "execution_count": 82,
      "outputs": [
        {
          "output_type": "display_data",
          "data": {
            "text/html": [
              "<style>\n",
              ".list-inline {list-style: none; margin:0; padding: 0}\n",
              ".list-inline>li {display: inline-block}\n",
              ".list-inline>li:not(:last-child)::after {content: \"\\00b7\"; padding: 0 .5ex}\n",
              "</style>\n",
              "<ol class=list-inline><li>'student_id'</li><li>'student_name'</li></ol>\n"
            ],
            "text/markdown": "1. 'student_id'\n2. 'student_name'\n\n\n",
            "text/latex": "\\begin{enumerate*}\n\\item 'student\\_id'\n\\item 'student\\_name'\n\\end{enumerate*}\n",
            "text/plain": [
              "[1] \"student_id\"   \"student_name\""
            ]
          },
          "metadata": {}
        }
      ]
    },
    {
      "cell_type": "code",
      "source": [
        "## Read files\n",
        "\n",
        "# read csv file\n",
        "\n",
        "df1 = read_csv(\"https://raw.githubusercontent.com/toyeiei/data-traninig/main/student_01.csv\")"
      ],
      "metadata": {
        "colab": {
          "base_uri": "https://localhost:8080/"
        },
        "id": "_RvfpK84l6bq",
        "outputId": "e93cd2c8-37b5-4949-b5a7-96f1018f05fc"
      },
      "execution_count": 83,
      "outputs": [
        {
          "output_type": "stream",
          "name": "stderr",
          "text": [
            "\u001b[1mRows: \u001b[22m\u001b[34m5\u001b[39m \u001b[1mColumns: \u001b[22m\u001b[34m4\u001b[39m\n",
            "\u001b[36m──\u001b[39m \u001b[1mColumn specification\u001b[22m \u001b[36m────────────────────────────────────────────────────────\u001b[39m\n",
            "\u001b[1mDelimiter:\u001b[22m \",\"\n",
            "\u001b[31mchr\u001b[39m (2): name, major\n",
            "\u001b[32mdbl\u001b[39m (2): id, age\n",
            "\n",
            "\u001b[36mℹ\u001b[39m Use `spec()` to retrieve the full column specification for this data.\n",
            "\u001b[36mℹ\u001b[39m Specify the column types or set `show_col_types = FALSE` to quiet this message.\n"
          ]
        }
      ]
    },
    {
      "cell_type": "code",
      "source": [
        "# read csv file using ; as a delimiter\n",
        "\n",
        "df2 = read_csv2(\"https://raw.githubusercontent.com/toyeiei/data-traninig/main/student_02.csv\")"
      ],
      "metadata": {
        "colab": {
          "base_uri": "https://localhost:8080/"
        },
        "id": "nLT_8bTfmXrt",
        "outputId": "e3b27e9a-aa1c-4fc0-d2e0-674c7020bcb0"
      },
      "execution_count": 84,
      "outputs": [
        {
          "output_type": "stream",
          "name": "stderr",
          "text": [
            "\u001b[36mℹ\u001b[39m Using \u001b[34m\u001b[34m\"','\"\u001b[34m\u001b[39m as decimal and \u001b[34m\u001b[34m\"'.'\"\u001b[34m\u001b[39m as grouping mark. Use `read_delim()` for more control.\n",
            "\n",
            "\u001b[1mRows: \u001b[22m\u001b[34m5\u001b[39m \u001b[1mColumns: \u001b[22m\u001b[34m4\u001b[39m\n",
            "\u001b[36m──\u001b[39m \u001b[1mColumn specification\u001b[22m \u001b[36m────────────────────────────────────────────────────────\u001b[39m\n",
            "\u001b[1mDelimiter:\u001b[22m \";\"\n",
            "\u001b[31mchr\u001b[39m (2): name, major\n",
            "\u001b[32mdbl\u001b[39m (2): id, age\n",
            "\n",
            "\u001b[36mℹ\u001b[39m Use `spec()` to retrieve the full column specification for this data.\n",
            "\u001b[36mℹ\u001b[39m Specify the column types or set `show_col_types = FALSE` to quiet this message.\n"
          ]
        }
      ]
    },
    {
      "cell_type": "code",
      "source": [
        "# read txt file using \"|\" as a delimiter\n",
        "\n",
        "df3 = read_delim(\"https://raw.githubusercontent.com/toyeiei/data-traninig/main/student_03.txt\", delim=\"|\")"
      ],
      "metadata": {
        "colab": {
          "base_uri": "https://localhost:8080/"
        },
        "id": "PRATfFKRmpSS",
        "outputId": "a846f43c-1a64-4113-c824-6ceabcd9f5e6"
      },
      "execution_count": 86,
      "outputs": [
        {
          "output_type": "stream",
          "name": "stderr",
          "text": [
            "\u001b[1mRows: \u001b[22m\u001b[34m5\u001b[39m \u001b[1mColumns: \u001b[22m\u001b[34m4\u001b[39m\n",
            "\u001b[36m──\u001b[39m \u001b[1mColumn specification\u001b[22m \u001b[36m────────────────────────────────────────────────────────\u001b[39m\n",
            "\u001b[1mDelimiter:\u001b[22m \"|\"\n",
            "\u001b[31mchr\u001b[39m (2): name, major\n",
            "\u001b[32mdbl\u001b[39m (2): id, age\n",
            "\n",
            "\u001b[36mℹ\u001b[39m Use `spec()` to retrieve the full column specification for this data.\n",
            "\u001b[36mℹ\u001b[39m Specify the column types or set `show_col_types = FALSE` to quiet this message.\n"
          ]
        }
      ]
    },
    {
      "cell_type": "code",
      "source": [
        "# read tsv file (tab separated values)\n",
        "\n",
        "df4 = read_tsv(\"https://raw.githubusercontent.com/toyeiei/data-traninig/main/student_04.tsv\")"
      ],
      "metadata": {
        "colab": {
          "base_uri": "https://localhost:8080/"
        },
        "id": "iPbtF-KHm2IS",
        "outputId": "027c7f2e-a6cd-4a84-c262-aec2e09d8611"
      },
      "execution_count": 87,
      "outputs": [
        {
          "output_type": "stream",
          "name": "stderr",
          "text": [
            "\u001b[1mRows: \u001b[22m\u001b[34m5\u001b[39m \u001b[1mColumns: \u001b[22m\u001b[34m4\u001b[39m\n",
            "\u001b[36m──\u001b[39m \u001b[1mColumn specification\u001b[22m \u001b[36m────────────────────────────────────────────────────────\u001b[39m\n",
            "\u001b[1mDelimiter:\u001b[22m \"\\t\"\n",
            "\u001b[31mchr\u001b[39m (2): name, major\n",
            "\u001b[32mdbl\u001b[39m (2): id, age\n",
            "\n",
            "\u001b[36mℹ\u001b[39m Use `spec()` to retrieve the full column specification for this data.\n",
            "\u001b[36mℹ\u001b[39m Specify the column types or set `show_col_types = FALSE` to quiet this message.\n"
          ]
        }
      ]
    },
    {
      "cell_type": "code",
      "source": [
        "# read excel file (Sheet name = Sheet1)\n",
        "\n",
        "df5 = read_excel(\"student_05.xlsx\",sheet=\"Sheet1\")"
      ],
      "metadata": {
        "id": "1b7-8FHgnhzg"
      },
      "execution_count": 89,
      "outputs": []
    },
    {
      "cell_type": "code",
      "source": [
        "## Check files with a specified pattern\n",
        "\n",
        "list.files(pattern=\"*.json\")"
      ],
      "metadata": {
        "colab": {
          "base_uri": "https://localhost:8080/",
          "height": 34
        },
        "id": "9gDqPpNQomFB",
        "outputId": "defc9e18-e138-419e-d28f-be9584083e07"
      },
      "execution_count": 91,
      "outputs": [
        {
          "output_type": "display_data",
          "data": {
            "text/html": [
              "<style>\n",
              ".list-inline {list-style: none; margin:0; padding: 0}\n",
              ".list-inline>li {display: inline-block}\n",
              ".list-inline>li:not(:last-child)::after {content: \"\\00b7\"; padding: 0 .5ex}\n",
              "</style>\n",
              "<ol class=list-inline><li>'profile.json'</li><li>'profile2.json'</li></ol>\n"
            ],
            "text/markdown": "1. 'profile.json'\n2. 'profile2.json'\n\n\n",
            "text/latex": "\\begin{enumerate*}\n\\item 'profile.json'\n\\item 'profile2.json'\n\\end{enumerate*}\n",
            "text/plain": [
              "[1] \"profile.json\"  \"profile2.json\""
            ]
          },
          "metadata": {}
        }
      ]
    },
    {
      "cell_type": "code",
      "source": [
        "# read a json file into R\n",
        "\n",
        "profile = fromJSON(\"profile.json\")"
      ],
      "metadata": {
        "id": "0gH7Sn5norJ8"
      },
      "execution_count": 92,
      "outputs": []
    },
    {
      "cell_type": "code",
      "source": [
        "profile\n",
        "profile$age"
      ],
      "metadata": {
        "colab": {
          "base_uri": "https://localhost:8080/",
          "height": 201
        },
        "id": "NPvKrC2Xoxsq",
        "outputId": "39551658-a964-44b6-918f-c21ded2aceec"
      },
      "execution_count": 94,
      "outputs": [
        {
          "output_type": "display_data",
          "data": {
            "text/html": [
              "<dl>\n",
              "\t<dt>$name</dt>\n",
              "\t\t<dd>'Toy'</dd>\n",
              "\t<dt>$age</dt>\n",
              "\t\t<dd>550</dd>\n",
              "\t<dt>$movie_lover</dt>\n",
              "\t\t<dd>TRUE</dd>\n",
              "\t<dt>$movies</dt>\n",
              "\t\t<dd><style>\n",
              ".list-inline {list-style: none; margin:0; padding: 0}\n",
              ".list-inline>li {display: inline-block}\n",
              ".list-inline>li:not(:last-child)::after {content: \"\\00b7\"; padding: 0 .5ex}\n",
              "</style>\n",
              "<ol class=list-inline><li>'Minions'</li><li>'Wreck it Ralph!'</li><li>'Peter Pan'</li></ol>\n",
              "</dd>\n",
              "</dl>\n"
            ],
            "text/markdown": "$name\n:   'Toy'\n$age\n:   550\n$movie_lover\n:   TRUE\n$movies\n:   1. 'Minions'\n2. 'Wreck it Ralph!'\n3. 'Peter Pan'\n\n\n\n\n\n",
            "text/latex": "\\begin{description}\n\\item[\\$name] 'Toy'\n\\item[\\$age] 550\n\\item[\\$movie\\_lover] TRUE\n\\item[\\$movies] \\begin{enumerate*}\n\\item 'Minions'\n\\item 'Wreck it Ralph!'\n\\item 'Peter Pan'\n\\end{enumerate*}\n\n\\end{description}\n",
            "text/plain": [
              "$name\n",
              "[1] \"Toy\"\n",
              "\n",
              "$age\n",
              "[1] 550\n",
              "\n",
              "$movie_lover\n",
              "[1] TRUE\n",
              "\n",
              "$movies\n",
              "[1] \"Minions\"         \"Wreck it Ralph!\" \"Peter Pan\"      \n"
            ]
          },
          "metadata": {}
        },
        {
          "output_type": "display_data",
          "data": {
            "text/html": [
              "550"
            ],
            "text/markdown": "550",
            "text/latex": "550",
            "text/plain": [
              "[1] 550"
            ]
          },
          "metadata": {}
        }
      ]
    },
    {
      "cell_type": "code",
      "source": [
        "# read a json file as a data frame\n",
        "\n",
        "profile2 = fromJSON(\"profile2.json\")"
      ],
      "metadata": {
        "id": "X7cw8Tg3o4dK"
      },
      "execution_count": 95,
      "outputs": []
    },
    {
      "cell_type": "code",
      "source": [
        "profile2"
      ],
      "metadata": {
        "colab": {
          "base_uri": "https://localhost:8080/",
          "height": 192
        },
        "id": "EUvtXhrlpV0x",
        "outputId": "8d8b8397-2927-44e7-abf6-8019c81a2470"
      },
      "execution_count": 96,
      "outputs": [
        {
          "output_type": "display_data",
          "data": {
            "text/html": [
              "<table class=\"dataframe\">\n",
              "<caption>A data.frame: 3 × 2</caption>\n",
              "<thead>\n",
              "\t<tr><th></th><th scope=col>name</th><th scope=col>age</th></tr>\n",
              "\t<tr><th></th><th scope=col>&lt;chr&gt;</th><th scope=col>&lt;int&gt;</th></tr>\n",
              "</thead>\n",
              "<tbody>\n",
              "\t<tr><th scope=row>1</th><td>toy </td><td>  55</td></tr>\n",
              "\t<tr><th scope=row>2</th><td>john</td><td> 550</td></tr>\n",
              "\t<tr><th scope=row>3</th><td>mary</td><td>5500</td></tr>\n",
              "</tbody>\n",
              "</table>\n"
            ],
            "text/markdown": "\nA data.frame: 3 × 2\n\n| <!--/--> | name &lt;chr&gt; | age &lt;int&gt; |\n|---|---|---|\n| 1 | toy  |   55 |\n| 2 | john |  550 |\n| 3 | mary | 5500 |\n\n",
            "text/latex": "A data.frame: 3 × 2\n\\begin{tabular}{r|ll}\n  & name & age\\\\\n  & <chr> & <int>\\\\\n\\hline\n\t1 & toy  &   55\\\\\n\t2 & john &  550\\\\\n\t3 & mary & 5500\\\\\n\\end{tabular}\n",
            "text/plain": [
              "  name age \n",
              "1 toy    55\n",
              "2 john  550\n",
              "3 mary 5500"
            ]
          },
          "metadata": {}
        }
      ]
    },
    {
      "cell_type": "code",
      "source": [
        "## Data Transformation\n",
        "\n",
        "# data() to see available data\n",
        "\n",
        "# see example of data\n",
        "head(mtcars, 3)\n",
        "tail(mtcars, 3)"
      ],
      "metadata": {
        "colab": {
          "base_uri": "https://localhost:8080/",
          "height": 367
        },
        "id": "3HGLPrT1pWtv",
        "outputId": "33f005ac-2481-4b2d-a74d-3b9912e6cbd4"
      },
      "execution_count": 97,
      "outputs": [
        {
          "output_type": "display_data",
          "data": {
            "text/html": [
              "<table class=\"dataframe\">\n",
              "<caption>A data.frame: 3 × 11</caption>\n",
              "<thead>\n",
              "\t<tr><th></th><th scope=col>mpg</th><th scope=col>cyl</th><th scope=col>disp</th><th scope=col>hp</th><th scope=col>drat</th><th scope=col>wt</th><th scope=col>qsec</th><th scope=col>vs</th><th scope=col>am</th><th scope=col>gear</th><th scope=col>carb</th></tr>\n",
              "\t<tr><th></th><th scope=col>&lt;dbl&gt;</th><th scope=col>&lt;dbl&gt;</th><th scope=col>&lt;dbl&gt;</th><th scope=col>&lt;dbl&gt;</th><th scope=col>&lt;dbl&gt;</th><th scope=col>&lt;dbl&gt;</th><th scope=col>&lt;dbl&gt;</th><th scope=col>&lt;dbl&gt;</th><th scope=col>&lt;dbl&gt;</th><th scope=col>&lt;dbl&gt;</th><th scope=col>&lt;dbl&gt;</th></tr>\n",
              "</thead>\n",
              "<tbody>\n",
              "\t<tr><th scope=row>Mazda RX4</th><td>21.0</td><td>6</td><td>160</td><td>110</td><td>3.90</td><td>2.620</td><td>16.46</td><td>0</td><td>1</td><td>4</td><td>4</td></tr>\n",
              "\t<tr><th scope=row>Mazda RX4 Wag</th><td>21.0</td><td>6</td><td>160</td><td>110</td><td>3.90</td><td>2.875</td><td>17.02</td><td>0</td><td>1</td><td>4</td><td>4</td></tr>\n",
              "\t<tr><th scope=row>Datsun 710</th><td>22.8</td><td>4</td><td>108</td><td> 93</td><td>3.85</td><td>2.320</td><td>18.61</td><td>1</td><td>1</td><td>4</td><td>1</td></tr>\n",
              "</tbody>\n",
              "</table>\n"
            ],
            "text/markdown": "\nA data.frame: 3 × 11\n\n| <!--/--> | mpg &lt;dbl&gt; | cyl &lt;dbl&gt; | disp &lt;dbl&gt; | hp &lt;dbl&gt; | drat &lt;dbl&gt; | wt &lt;dbl&gt; | qsec &lt;dbl&gt; | vs &lt;dbl&gt; | am &lt;dbl&gt; | gear &lt;dbl&gt; | carb &lt;dbl&gt; |\n|---|---|---|---|---|---|---|---|---|---|---|---|\n| Mazda RX4 | 21.0 | 6 | 160 | 110 | 3.90 | 2.620 | 16.46 | 0 | 1 | 4 | 4 |\n| Mazda RX4 Wag | 21.0 | 6 | 160 | 110 | 3.90 | 2.875 | 17.02 | 0 | 1 | 4 | 4 |\n| Datsun 710 | 22.8 | 4 | 108 |  93 | 3.85 | 2.320 | 18.61 | 1 | 1 | 4 | 1 |\n\n",
            "text/latex": "A data.frame: 3 × 11\n\\begin{tabular}{r|lllllllllll}\n  & mpg & cyl & disp & hp & drat & wt & qsec & vs & am & gear & carb\\\\\n  & <dbl> & <dbl> & <dbl> & <dbl> & <dbl> & <dbl> & <dbl> & <dbl> & <dbl> & <dbl> & <dbl>\\\\\n\\hline\n\tMazda RX4 & 21.0 & 6 & 160 & 110 & 3.90 & 2.620 & 16.46 & 0 & 1 & 4 & 4\\\\\n\tMazda RX4 Wag & 21.0 & 6 & 160 & 110 & 3.90 & 2.875 & 17.02 & 0 & 1 & 4 & 4\\\\\n\tDatsun 710 & 22.8 & 4 & 108 &  93 & 3.85 & 2.320 & 18.61 & 1 & 1 & 4 & 1\\\\\n\\end{tabular}\n",
            "text/plain": [
              "              mpg  cyl disp hp  drat wt    qsec  vs am gear carb\n",
              "Mazda RX4     21.0 6   160  110 3.90 2.620 16.46 0  1  4    4   \n",
              "Mazda RX4 Wag 21.0 6   160  110 3.90 2.875 17.02 0  1  4    4   \n",
              "Datsun 710    22.8 4   108   93 3.85 2.320 18.61 1  1  4    1   "
            ]
          },
          "metadata": {}
        },
        {
          "output_type": "display_data",
          "data": {
            "text/html": [
              "<table class=\"dataframe\">\n",
              "<caption>A data.frame: 3 × 11</caption>\n",
              "<thead>\n",
              "\t<tr><th></th><th scope=col>mpg</th><th scope=col>cyl</th><th scope=col>disp</th><th scope=col>hp</th><th scope=col>drat</th><th scope=col>wt</th><th scope=col>qsec</th><th scope=col>vs</th><th scope=col>am</th><th scope=col>gear</th><th scope=col>carb</th></tr>\n",
              "\t<tr><th></th><th scope=col>&lt;dbl&gt;</th><th scope=col>&lt;dbl&gt;</th><th scope=col>&lt;dbl&gt;</th><th scope=col>&lt;dbl&gt;</th><th scope=col>&lt;dbl&gt;</th><th scope=col>&lt;dbl&gt;</th><th scope=col>&lt;dbl&gt;</th><th scope=col>&lt;dbl&gt;</th><th scope=col>&lt;dbl&gt;</th><th scope=col>&lt;dbl&gt;</th><th scope=col>&lt;dbl&gt;</th></tr>\n",
              "</thead>\n",
              "<tbody>\n",
              "\t<tr><th scope=row>Ferrari Dino</th><td>19.7</td><td>6</td><td>145</td><td>175</td><td>3.62</td><td>2.77</td><td>15.5</td><td>0</td><td>1</td><td>5</td><td>6</td></tr>\n",
              "\t<tr><th scope=row>Maserati Bora</th><td>15.0</td><td>8</td><td>301</td><td>335</td><td>3.54</td><td>3.57</td><td>14.6</td><td>0</td><td>1</td><td>5</td><td>8</td></tr>\n",
              "\t<tr><th scope=row>Volvo 142E</th><td>21.4</td><td>4</td><td>121</td><td>109</td><td>4.11</td><td>2.78</td><td>18.6</td><td>1</td><td>1</td><td>4</td><td>2</td></tr>\n",
              "</tbody>\n",
              "</table>\n"
            ],
            "text/markdown": "\nA data.frame: 3 × 11\n\n| <!--/--> | mpg &lt;dbl&gt; | cyl &lt;dbl&gt; | disp &lt;dbl&gt; | hp &lt;dbl&gt; | drat &lt;dbl&gt; | wt &lt;dbl&gt; | qsec &lt;dbl&gt; | vs &lt;dbl&gt; | am &lt;dbl&gt; | gear &lt;dbl&gt; | carb &lt;dbl&gt; |\n|---|---|---|---|---|---|---|---|---|---|---|---|\n| Ferrari Dino | 19.7 | 6 | 145 | 175 | 3.62 | 2.77 | 15.5 | 0 | 1 | 5 | 6 |\n| Maserati Bora | 15.0 | 8 | 301 | 335 | 3.54 | 3.57 | 14.6 | 0 | 1 | 5 | 8 |\n| Volvo 142E | 21.4 | 4 | 121 | 109 | 4.11 | 2.78 | 18.6 | 1 | 1 | 4 | 2 |\n\n",
            "text/latex": "A data.frame: 3 × 11\n\\begin{tabular}{r|lllllllllll}\n  & mpg & cyl & disp & hp & drat & wt & qsec & vs & am & gear & carb\\\\\n  & <dbl> & <dbl> & <dbl> & <dbl> & <dbl> & <dbl> & <dbl> & <dbl> & <dbl> & <dbl> & <dbl>\\\\\n\\hline\n\tFerrari Dino & 19.7 & 6 & 145 & 175 & 3.62 & 2.77 & 15.5 & 0 & 1 & 5 & 6\\\\\n\tMaserati Bora & 15.0 & 8 & 301 & 335 & 3.54 & 3.57 & 14.6 & 0 & 1 & 5 & 8\\\\\n\tVolvo 142E & 21.4 & 4 & 121 & 109 & 4.11 & 2.78 & 18.6 & 1 & 1 & 4 & 2\\\\\n\\end{tabular}\n",
            "text/plain": [
              "              mpg  cyl disp hp  drat wt   qsec vs am gear carb\n",
              "Ferrari Dino  19.7 6   145  175 3.62 2.77 15.5 0  1  5    6   \n",
              "Maserati Bora 15.0 8   301  335 3.54 3.57 14.6 0  1  5    8   \n",
              "Volvo 142E    21.4 4   121  109 4.11 2.78 18.6 1  1  4    2   "
            ]
          },
          "metadata": {}
        }
      ]
    },
    {
      "cell_type": "code",
      "source": [
        "# check column / row names\n",
        "colnames(mtcars)\n",
        "rownames(mtcars)"
      ],
      "metadata": {
        "colab": {
          "base_uri": "https://localhost:8080/",
          "height": 86
        },
        "id": "NJEwy79rqIXy",
        "outputId": "f09a08ba-1823-437f-efd8-d131dd559470"
      },
      "execution_count": 98,
      "outputs": [
        {
          "output_type": "display_data",
          "data": {
            "text/html": [
              "<style>\n",
              ".list-inline {list-style: none; margin:0; padding: 0}\n",
              ".list-inline>li {display: inline-block}\n",
              ".list-inline>li:not(:last-child)::after {content: \"\\00b7\"; padding: 0 .5ex}\n",
              "</style>\n",
              "<ol class=list-inline><li>'mpg'</li><li>'cyl'</li><li>'disp'</li><li>'hp'</li><li>'drat'</li><li>'wt'</li><li>'qsec'</li><li>'vs'</li><li>'am'</li><li>'gear'</li><li>'carb'</li></ol>\n"
            ],
            "text/markdown": "1. 'mpg'\n2. 'cyl'\n3. 'disp'\n4. 'hp'\n5. 'drat'\n6. 'wt'\n7. 'qsec'\n8. 'vs'\n9. 'am'\n10. 'gear'\n11. 'carb'\n\n\n",
            "text/latex": "\\begin{enumerate*}\n\\item 'mpg'\n\\item 'cyl'\n\\item 'disp'\n\\item 'hp'\n\\item 'drat'\n\\item 'wt'\n\\item 'qsec'\n\\item 'vs'\n\\item 'am'\n\\item 'gear'\n\\item 'carb'\n\\end{enumerate*}\n",
            "text/plain": [
              " [1] \"mpg\"  \"cyl\"  \"disp\" \"hp\"   \"drat\" \"wt\"   \"qsec\" \"vs\"   \"am\"   \"gear\"\n",
              "[11] \"carb\""
            ]
          },
          "metadata": {}
        },
        {
          "output_type": "display_data",
          "data": {
            "text/html": [
              "<style>\n",
              ".list-inline {list-style: none; margin:0; padding: 0}\n",
              ".list-inline>li {display: inline-block}\n",
              ".list-inline>li:not(:last-child)::after {content: \"\\00b7\"; padding: 0 .5ex}\n",
              "</style>\n",
              "<ol class=list-inline><li>'Mazda RX4'</li><li>'Mazda RX4 Wag'</li><li>'Datsun 710'</li><li>'Hornet 4 Drive'</li><li>'Hornet Sportabout'</li><li>'Valiant'</li><li>'Duster 360'</li><li>'Merc 240D'</li><li>'Merc 230'</li><li>'Merc 280'</li><li>'Merc 280C'</li><li>'Merc 450SE'</li><li>'Merc 450SL'</li><li>'Merc 450SLC'</li><li>'Cadillac Fleetwood'</li><li>'Lincoln Continental'</li><li>'Chrysler Imperial'</li><li>'Fiat 128'</li><li>'Honda Civic'</li><li>'Toyota Corolla'</li><li>'Toyota Corona'</li><li>'Dodge Challenger'</li><li>'AMC Javelin'</li><li>'Camaro Z28'</li><li>'Pontiac Firebird'</li><li>'Fiat X1-9'</li><li>'Porsche 914-2'</li><li>'Lotus Europa'</li><li>'Ford Pantera L'</li><li>'Ferrari Dino'</li><li>'Maserati Bora'</li><li>'Volvo 142E'</li></ol>\n"
            ],
            "text/markdown": "1. 'Mazda RX4'\n2. 'Mazda RX4 Wag'\n3. 'Datsun 710'\n4. 'Hornet 4 Drive'\n5. 'Hornet Sportabout'\n6. 'Valiant'\n7. 'Duster 360'\n8. 'Merc 240D'\n9. 'Merc 230'\n10. 'Merc 280'\n11. 'Merc 280C'\n12. 'Merc 450SE'\n13. 'Merc 450SL'\n14. 'Merc 450SLC'\n15. 'Cadillac Fleetwood'\n16. 'Lincoln Continental'\n17. 'Chrysler Imperial'\n18. 'Fiat 128'\n19. 'Honda Civic'\n20. 'Toyota Corolla'\n21. 'Toyota Corona'\n22. 'Dodge Challenger'\n23. 'AMC Javelin'\n24. 'Camaro Z28'\n25. 'Pontiac Firebird'\n26. 'Fiat X1-9'\n27. 'Porsche 914-2'\n28. 'Lotus Europa'\n29. 'Ford Pantera L'\n30. 'Ferrari Dino'\n31. 'Maserati Bora'\n32. 'Volvo 142E'\n\n\n",
            "text/latex": "\\begin{enumerate*}\n\\item 'Mazda RX4'\n\\item 'Mazda RX4 Wag'\n\\item 'Datsun 710'\n\\item 'Hornet 4 Drive'\n\\item 'Hornet Sportabout'\n\\item 'Valiant'\n\\item 'Duster 360'\n\\item 'Merc 240D'\n\\item 'Merc 230'\n\\item 'Merc 280'\n\\item 'Merc 280C'\n\\item 'Merc 450SE'\n\\item 'Merc 450SL'\n\\item 'Merc 450SLC'\n\\item 'Cadillac Fleetwood'\n\\item 'Lincoln Continental'\n\\item 'Chrysler Imperial'\n\\item 'Fiat 128'\n\\item 'Honda Civic'\n\\item 'Toyota Corolla'\n\\item 'Toyota Corona'\n\\item 'Dodge Challenger'\n\\item 'AMC Javelin'\n\\item 'Camaro Z28'\n\\item 'Pontiac Firebird'\n\\item 'Fiat X1-9'\n\\item 'Porsche 914-2'\n\\item 'Lotus Europa'\n\\item 'Ford Pantera L'\n\\item 'Ferrari Dino'\n\\item 'Maserati Bora'\n\\item 'Volvo 142E'\n\\end{enumerate*}\n",
            "text/plain": [
              " [1] \"Mazda RX4\"           \"Mazda RX4 Wag\"       \"Datsun 710\"         \n",
              " [4] \"Hornet 4 Drive\"      \"Hornet Sportabout\"   \"Valiant\"            \n",
              " [7] \"Duster 360\"          \"Merc 240D\"           \"Merc 230\"           \n",
              "[10] \"Merc 280\"            \"Merc 280C\"           \"Merc 450SE\"         \n",
              "[13] \"Merc 450SL\"          \"Merc 450SLC\"         \"Cadillac Fleetwood\" \n",
              "[16] \"Lincoln Continental\" \"Chrysler Imperial\"   \"Fiat 128\"           \n",
              "[19] \"Honda Civic\"         \"Toyota Corolla\"      \"Toyota Corona\"      \n",
              "[22] \"Dodge Challenger\"    \"AMC Javelin\"         \"Camaro Z28\"         \n",
              "[25] \"Pontiac Firebird\"    \"Fiat X1-9\"           \"Porsche 914-2\"      \n",
              "[28] \"Lotus Europa\"        \"Ford Pantera L\"      \"Ferrari Dino\"       \n",
              "[31] \"Maserati Bora\"       \"Volvo 142E\"         "
            ]
          },
          "metadata": {}
        }
      ]
    },
    {
      "cell_type": "code",
      "source": [
        "car_names = rownames(mtcars)\n",
        "\n",
        "# create a new column - rightest column\n",
        "\n",
        "mtcars$model = car_names"
      ],
      "metadata": {
        "id": "1RAZ4jK7qZVf"
      },
      "execution_count": 101,
      "outputs": []
    },
    {
      "cell_type": "code",
      "source": [
        "# delete column values\n",
        "\n",
        "rownames(mtcars) = NULL"
      ],
      "metadata": {
        "id": "n3y4yPDhqrfM"
      },
      "execution_count": 102,
      "outputs": []
    },
    {
      "cell_type": "code",
      "source": [
        "# select columns by column name\n",
        "\n",
        "select(mtcars, hp, wt, am)"
      ],
      "metadata": {
        "colab": {
          "base_uri": "https://localhost:8080/",
          "height": 1000
        },
        "id": "NHXQfW9pqziO",
        "outputId": "14abc7bc-4482-4a5d-fbff-64363f4c3e01"
      },
      "execution_count": 105,
      "outputs": [
        {
          "output_type": "display_data",
          "data": {
            "text/html": [
              "<table class=\"dataframe\">\n",
              "<caption>A data.frame: 32 × 3</caption>\n",
              "<thead>\n",
              "\t<tr><th scope=col>hp</th><th scope=col>wt</th><th scope=col>am</th></tr>\n",
              "\t<tr><th scope=col>&lt;dbl&gt;</th><th scope=col>&lt;dbl&gt;</th><th scope=col>&lt;dbl&gt;</th></tr>\n",
              "</thead>\n",
              "<tbody>\n",
              "\t<tr><td>110</td><td>2.620</td><td>1</td></tr>\n",
              "\t<tr><td>110</td><td>2.875</td><td>1</td></tr>\n",
              "\t<tr><td> 93</td><td>2.320</td><td>1</td></tr>\n",
              "\t<tr><td>110</td><td>3.215</td><td>0</td></tr>\n",
              "\t<tr><td>175</td><td>3.440</td><td>0</td></tr>\n",
              "\t<tr><td>105</td><td>3.460</td><td>0</td></tr>\n",
              "\t<tr><td>245</td><td>3.570</td><td>0</td></tr>\n",
              "\t<tr><td> 62</td><td>3.190</td><td>0</td></tr>\n",
              "\t<tr><td> 95</td><td>3.150</td><td>0</td></tr>\n",
              "\t<tr><td>123</td><td>3.440</td><td>0</td></tr>\n",
              "\t<tr><td>123</td><td>3.440</td><td>0</td></tr>\n",
              "\t<tr><td>180</td><td>4.070</td><td>0</td></tr>\n",
              "\t<tr><td>180</td><td>3.730</td><td>0</td></tr>\n",
              "\t<tr><td>180</td><td>3.780</td><td>0</td></tr>\n",
              "\t<tr><td>205</td><td>5.250</td><td>0</td></tr>\n",
              "\t<tr><td>215</td><td>5.424</td><td>0</td></tr>\n",
              "\t<tr><td>230</td><td>5.345</td><td>0</td></tr>\n",
              "\t<tr><td> 66</td><td>2.200</td><td>1</td></tr>\n",
              "\t<tr><td> 52</td><td>1.615</td><td>1</td></tr>\n",
              "\t<tr><td> 65</td><td>1.835</td><td>1</td></tr>\n",
              "\t<tr><td> 97</td><td>2.465</td><td>0</td></tr>\n",
              "\t<tr><td>150</td><td>3.520</td><td>0</td></tr>\n",
              "\t<tr><td>150</td><td>3.435</td><td>0</td></tr>\n",
              "\t<tr><td>245</td><td>3.840</td><td>0</td></tr>\n",
              "\t<tr><td>175</td><td>3.845</td><td>0</td></tr>\n",
              "\t<tr><td> 66</td><td>1.935</td><td>1</td></tr>\n",
              "\t<tr><td> 91</td><td>2.140</td><td>1</td></tr>\n",
              "\t<tr><td>113</td><td>1.513</td><td>1</td></tr>\n",
              "\t<tr><td>264</td><td>3.170</td><td>1</td></tr>\n",
              "\t<tr><td>175</td><td>2.770</td><td>1</td></tr>\n",
              "\t<tr><td>335</td><td>3.570</td><td>1</td></tr>\n",
              "\t<tr><td>109</td><td>2.780</td><td>1</td></tr>\n",
              "</tbody>\n",
              "</table>\n"
            ],
            "text/markdown": "\nA data.frame: 32 × 3\n\n| hp &lt;dbl&gt; | wt &lt;dbl&gt; | am &lt;dbl&gt; |\n|---|---|---|\n| 110 | 2.620 | 1 |\n| 110 | 2.875 | 1 |\n|  93 | 2.320 | 1 |\n| 110 | 3.215 | 0 |\n| 175 | 3.440 | 0 |\n| 105 | 3.460 | 0 |\n| 245 | 3.570 | 0 |\n|  62 | 3.190 | 0 |\n|  95 | 3.150 | 0 |\n| 123 | 3.440 | 0 |\n| 123 | 3.440 | 0 |\n| 180 | 4.070 | 0 |\n| 180 | 3.730 | 0 |\n| 180 | 3.780 | 0 |\n| 205 | 5.250 | 0 |\n| 215 | 5.424 | 0 |\n| 230 | 5.345 | 0 |\n|  66 | 2.200 | 1 |\n|  52 | 1.615 | 1 |\n|  65 | 1.835 | 1 |\n|  97 | 2.465 | 0 |\n| 150 | 3.520 | 0 |\n| 150 | 3.435 | 0 |\n| 245 | 3.840 | 0 |\n| 175 | 3.845 | 0 |\n|  66 | 1.935 | 1 |\n|  91 | 2.140 | 1 |\n| 113 | 1.513 | 1 |\n| 264 | 3.170 | 1 |\n| 175 | 2.770 | 1 |\n| 335 | 3.570 | 1 |\n| 109 | 2.780 | 1 |\n\n",
            "text/latex": "A data.frame: 32 × 3\n\\begin{tabular}{lll}\n hp & wt & am\\\\\n <dbl> & <dbl> & <dbl>\\\\\n\\hline\n\t 110 & 2.620 & 1\\\\\n\t 110 & 2.875 & 1\\\\\n\t  93 & 2.320 & 1\\\\\n\t 110 & 3.215 & 0\\\\\n\t 175 & 3.440 & 0\\\\\n\t 105 & 3.460 & 0\\\\\n\t 245 & 3.570 & 0\\\\\n\t  62 & 3.190 & 0\\\\\n\t  95 & 3.150 & 0\\\\\n\t 123 & 3.440 & 0\\\\\n\t 123 & 3.440 & 0\\\\\n\t 180 & 4.070 & 0\\\\\n\t 180 & 3.730 & 0\\\\\n\t 180 & 3.780 & 0\\\\\n\t 205 & 5.250 & 0\\\\\n\t 215 & 5.424 & 0\\\\\n\t 230 & 5.345 & 0\\\\\n\t  66 & 2.200 & 1\\\\\n\t  52 & 1.615 & 1\\\\\n\t  65 & 1.835 & 1\\\\\n\t  97 & 2.465 & 0\\\\\n\t 150 & 3.520 & 0\\\\\n\t 150 & 3.435 & 0\\\\\n\t 245 & 3.840 & 0\\\\\n\t 175 & 3.845 & 0\\\\\n\t  66 & 1.935 & 1\\\\\n\t  91 & 2.140 & 1\\\\\n\t 113 & 1.513 & 1\\\\\n\t 264 & 3.170 & 1\\\\\n\t 175 & 2.770 & 1\\\\\n\t 335 & 3.570 & 1\\\\\n\t 109 & 2.780 & 1\\\\\n\\end{tabular}\n",
            "text/plain": [
              "   hp  wt    am\n",
              "1  110 2.620 1 \n",
              "2  110 2.875 1 \n",
              "3   93 2.320 1 \n",
              "4  110 3.215 0 \n",
              "5  175 3.440 0 \n",
              "6  105 3.460 0 \n",
              "7  245 3.570 0 \n",
              "8   62 3.190 0 \n",
              "9   95 3.150 0 \n",
              "10 123 3.440 0 \n",
              "11 123 3.440 0 \n",
              "12 180 4.070 0 \n",
              "13 180 3.730 0 \n",
              "14 180 3.780 0 \n",
              "15 205 5.250 0 \n",
              "16 215 5.424 0 \n",
              "17 230 5.345 0 \n",
              "18  66 2.200 1 \n",
              "19  52 1.615 1 \n",
              "20  65 1.835 1 \n",
              "21  97 2.465 0 \n",
              "22 150 3.520 0 \n",
              "23 150 3.435 0 \n",
              "24 245 3.840 0 \n",
              "25 175 3.845 0 \n",
              "26  66 1.935 1 \n",
              "27  91 2.140 1 \n",
              "28 113 1.513 1 \n",
              "29 264 3.170 1 \n",
              "30 175 2.770 1 \n",
              "31 335 3.570 1 \n",
              "32 109 2.780 1 "
            ]
          },
          "metadata": {}
        }
      ]
    },
    {
      "cell_type": "code",
      "source": [
        "# select columns by column number\n",
        "\n",
        "select(mtcars, 1:5,12)"
      ],
      "metadata": {
        "colab": {
          "base_uri": "https://localhost:8080/",
          "height": 1000
        },
        "id": "7Hx2cLZFq385",
        "outputId": "54294f01-3a20-4925-f1cb-4a2eccb2adce"
      },
      "execution_count": 106,
      "outputs": [
        {
          "output_type": "display_data",
          "data": {
            "text/html": [
              "<table class=\"dataframe\">\n",
              "<caption>A data.frame: 32 × 6</caption>\n",
              "<thead>\n",
              "\t<tr><th scope=col>mpg</th><th scope=col>cyl</th><th scope=col>disp</th><th scope=col>hp</th><th scope=col>drat</th><th scope=col>model</th></tr>\n",
              "\t<tr><th scope=col>&lt;dbl&gt;</th><th scope=col>&lt;dbl&gt;</th><th scope=col>&lt;dbl&gt;</th><th scope=col>&lt;dbl&gt;</th><th scope=col>&lt;dbl&gt;</th><th scope=col>&lt;chr&gt;</th></tr>\n",
              "</thead>\n",
              "<tbody>\n",
              "\t<tr><td>21.0</td><td>6</td><td>160.0</td><td>110</td><td>3.90</td><td>Mazda RX4          </td></tr>\n",
              "\t<tr><td>21.0</td><td>6</td><td>160.0</td><td>110</td><td>3.90</td><td>Mazda RX4 Wag      </td></tr>\n",
              "\t<tr><td>22.8</td><td>4</td><td>108.0</td><td> 93</td><td>3.85</td><td>Datsun 710         </td></tr>\n",
              "\t<tr><td>21.4</td><td>6</td><td>258.0</td><td>110</td><td>3.08</td><td>Hornet 4 Drive     </td></tr>\n",
              "\t<tr><td>18.7</td><td>8</td><td>360.0</td><td>175</td><td>3.15</td><td>Hornet Sportabout  </td></tr>\n",
              "\t<tr><td>18.1</td><td>6</td><td>225.0</td><td>105</td><td>2.76</td><td>Valiant            </td></tr>\n",
              "\t<tr><td>14.3</td><td>8</td><td>360.0</td><td>245</td><td>3.21</td><td>Duster 360         </td></tr>\n",
              "\t<tr><td>24.4</td><td>4</td><td>146.7</td><td> 62</td><td>3.69</td><td>Merc 240D          </td></tr>\n",
              "\t<tr><td>22.8</td><td>4</td><td>140.8</td><td> 95</td><td>3.92</td><td>Merc 230           </td></tr>\n",
              "\t<tr><td>19.2</td><td>6</td><td>167.6</td><td>123</td><td>3.92</td><td>Merc 280           </td></tr>\n",
              "\t<tr><td>17.8</td><td>6</td><td>167.6</td><td>123</td><td>3.92</td><td>Merc 280C          </td></tr>\n",
              "\t<tr><td>16.4</td><td>8</td><td>275.8</td><td>180</td><td>3.07</td><td>Merc 450SE         </td></tr>\n",
              "\t<tr><td>17.3</td><td>8</td><td>275.8</td><td>180</td><td>3.07</td><td>Merc 450SL         </td></tr>\n",
              "\t<tr><td>15.2</td><td>8</td><td>275.8</td><td>180</td><td>3.07</td><td>Merc 450SLC        </td></tr>\n",
              "\t<tr><td>10.4</td><td>8</td><td>472.0</td><td>205</td><td>2.93</td><td>Cadillac Fleetwood </td></tr>\n",
              "\t<tr><td>10.4</td><td>8</td><td>460.0</td><td>215</td><td>3.00</td><td>Lincoln Continental</td></tr>\n",
              "\t<tr><td>14.7</td><td>8</td><td>440.0</td><td>230</td><td>3.23</td><td>Chrysler Imperial  </td></tr>\n",
              "\t<tr><td>32.4</td><td>4</td><td> 78.7</td><td> 66</td><td>4.08</td><td>Fiat 128           </td></tr>\n",
              "\t<tr><td>30.4</td><td>4</td><td> 75.7</td><td> 52</td><td>4.93</td><td>Honda Civic        </td></tr>\n",
              "\t<tr><td>33.9</td><td>4</td><td> 71.1</td><td> 65</td><td>4.22</td><td>Toyota Corolla     </td></tr>\n",
              "\t<tr><td>21.5</td><td>4</td><td>120.1</td><td> 97</td><td>3.70</td><td>Toyota Corona      </td></tr>\n",
              "\t<tr><td>15.5</td><td>8</td><td>318.0</td><td>150</td><td>2.76</td><td>Dodge Challenger   </td></tr>\n",
              "\t<tr><td>15.2</td><td>8</td><td>304.0</td><td>150</td><td>3.15</td><td>AMC Javelin        </td></tr>\n",
              "\t<tr><td>13.3</td><td>8</td><td>350.0</td><td>245</td><td>3.73</td><td>Camaro Z28         </td></tr>\n",
              "\t<tr><td>19.2</td><td>8</td><td>400.0</td><td>175</td><td>3.08</td><td>Pontiac Firebird   </td></tr>\n",
              "\t<tr><td>27.3</td><td>4</td><td> 79.0</td><td> 66</td><td>4.08</td><td>Fiat X1-9          </td></tr>\n",
              "\t<tr><td>26.0</td><td>4</td><td>120.3</td><td> 91</td><td>4.43</td><td>Porsche 914-2      </td></tr>\n",
              "\t<tr><td>30.4</td><td>4</td><td> 95.1</td><td>113</td><td>3.77</td><td>Lotus Europa       </td></tr>\n",
              "\t<tr><td>15.8</td><td>8</td><td>351.0</td><td>264</td><td>4.22</td><td>Ford Pantera L     </td></tr>\n",
              "\t<tr><td>19.7</td><td>6</td><td>145.0</td><td>175</td><td>3.62</td><td>Ferrari Dino       </td></tr>\n",
              "\t<tr><td>15.0</td><td>8</td><td>301.0</td><td>335</td><td>3.54</td><td>Maserati Bora      </td></tr>\n",
              "\t<tr><td>21.4</td><td>4</td><td>121.0</td><td>109</td><td>4.11</td><td>Volvo 142E         </td></tr>\n",
              "</tbody>\n",
              "</table>\n"
            ],
            "text/markdown": "\nA data.frame: 32 × 6\n\n| mpg &lt;dbl&gt; | cyl &lt;dbl&gt; | disp &lt;dbl&gt; | hp &lt;dbl&gt; | drat &lt;dbl&gt; | model &lt;chr&gt; |\n|---|---|---|---|---|---|\n| 21.0 | 6 | 160.0 | 110 | 3.90 | Mazda RX4           |\n| 21.0 | 6 | 160.0 | 110 | 3.90 | Mazda RX4 Wag       |\n| 22.8 | 4 | 108.0 |  93 | 3.85 | Datsun 710          |\n| 21.4 | 6 | 258.0 | 110 | 3.08 | Hornet 4 Drive      |\n| 18.7 | 8 | 360.0 | 175 | 3.15 | Hornet Sportabout   |\n| 18.1 | 6 | 225.0 | 105 | 2.76 | Valiant             |\n| 14.3 | 8 | 360.0 | 245 | 3.21 | Duster 360          |\n| 24.4 | 4 | 146.7 |  62 | 3.69 | Merc 240D           |\n| 22.8 | 4 | 140.8 |  95 | 3.92 | Merc 230            |\n| 19.2 | 6 | 167.6 | 123 | 3.92 | Merc 280            |\n| 17.8 | 6 | 167.6 | 123 | 3.92 | Merc 280C           |\n| 16.4 | 8 | 275.8 | 180 | 3.07 | Merc 450SE          |\n| 17.3 | 8 | 275.8 | 180 | 3.07 | Merc 450SL          |\n| 15.2 | 8 | 275.8 | 180 | 3.07 | Merc 450SLC         |\n| 10.4 | 8 | 472.0 | 205 | 2.93 | Cadillac Fleetwood  |\n| 10.4 | 8 | 460.0 | 215 | 3.00 | Lincoln Continental |\n| 14.7 | 8 | 440.0 | 230 | 3.23 | Chrysler Imperial   |\n| 32.4 | 4 |  78.7 |  66 | 4.08 | Fiat 128            |\n| 30.4 | 4 |  75.7 |  52 | 4.93 | Honda Civic         |\n| 33.9 | 4 |  71.1 |  65 | 4.22 | Toyota Corolla      |\n| 21.5 | 4 | 120.1 |  97 | 3.70 | Toyota Corona       |\n| 15.5 | 8 | 318.0 | 150 | 2.76 | Dodge Challenger    |\n| 15.2 | 8 | 304.0 | 150 | 3.15 | AMC Javelin         |\n| 13.3 | 8 | 350.0 | 245 | 3.73 | Camaro Z28          |\n| 19.2 | 8 | 400.0 | 175 | 3.08 | Pontiac Firebird    |\n| 27.3 | 4 |  79.0 |  66 | 4.08 | Fiat X1-9           |\n| 26.0 | 4 | 120.3 |  91 | 4.43 | Porsche 914-2       |\n| 30.4 | 4 |  95.1 | 113 | 3.77 | Lotus Europa        |\n| 15.8 | 8 | 351.0 | 264 | 4.22 | Ford Pantera L      |\n| 19.7 | 6 | 145.0 | 175 | 3.62 | Ferrari Dino        |\n| 15.0 | 8 | 301.0 | 335 | 3.54 | Maserati Bora       |\n| 21.4 | 4 | 121.0 | 109 | 4.11 | Volvo 142E          |\n\n",
            "text/latex": "A data.frame: 32 × 6\n\\begin{tabular}{llllll}\n mpg & cyl & disp & hp & drat & model\\\\\n <dbl> & <dbl> & <dbl> & <dbl> & <dbl> & <chr>\\\\\n\\hline\n\t 21.0 & 6 & 160.0 & 110 & 3.90 & Mazda RX4          \\\\\n\t 21.0 & 6 & 160.0 & 110 & 3.90 & Mazda RX4 Wag      \\\\\n\t 22.8 & 4 & 108.0 &  93 & 3.85 & Datsun 710         \\\\\n\t 21.4 & 6 & 258.0 & 110 & 3.08 & Hornet 4 Drive     \\\\\n\t 18.7 & 8 & 360.0 & 175 & 3.15 & Hornet Sportabout  \\\\\n\t 18.1 & 6 & 225.0 & 105 & 2.76 & Valiant            \\\\\n\t 14.3 & 8 & 360.0 & 245 & 3.21 & Duster 360         \\\\\n\t 24.4 & 4 & 146.7 &  62 & 3.69 & Merc 240D          \\\\\n\t 22.8 & 4 & 140.8 &  95 & 3.92 & Merc 230           \\\\\n\t 19.2 & 6 & 167.6 & 123 & 3.92 & Merc 280           \\\\\n\t 17.8 & 6 & 167.6 & 123 & 3.92 & Merc 280C          \\\\\n\t 16.4 & 8 & 275.8 & 180 & 3.07 & Merc 450SE         \\\\\n\t 17.3 & 8 & 275.8 & 180 & 3.07 & Merc 450SL         \\\\\n\t 15.2 & 8 & 275.8 & 180 & 3.07 & Merc 450SLC        \\\\\n\t 10.4 & 8 & 472.0 & 205 & 2.93 & Cadillac Fleetwood \\\\\n\t 10.4 & 8 & 460.0 & 215 & 3.00 & Lincoln Continental\\\\\n\t 14.7 & 8 & 440.0 & 230 & 3.23 & Chrysler Imperial  \\\\\n\t 32.4 & 4 &  78.7 &  66 & 4.08 & Fiat 128           \\\\\n\t 30.4 & 4 &  75.7 &  52 & 4.93 & Honda Civic        \\\\\n\t 33.9 & 4 &  71.1 &  65 & 4.22 & Toyota Corolla     \\\\\n\t 21.5 & 4 & 120.1 &  97 & 3.70 & Toyota Corona      \\\\\n\t 15.5 & 8 & 318.0 & 150 & 2.76 & Dodge Challenger   \\\\\n\t 15.2 & 8 & 304.0 & 150 & 3.15 & AMC Javelin        \\\\\n\t 13.3 & 8 & 350.0 & 245 & 3.73 & Camaro Z28         \\\\\n\t 19.2 & 8 & 400.0 & 175 & 3.08 & Pontiac Firebird   \\\\\n\t 27.3 & 4 &  79.0 &  66 & 4.08 & Fiat X1-9          \\\\\n\t 26.0 & 4 & 120.3 &  91 & 4.43 & Porsche 914-2      \\\\\n\t 30.4 & 4 &  95.1 & 113 & 3.77 & Lotus Europa       \\\\\n\t 15.8 & 8 & 351.0 & 264 & 4.22 & Ford Pantera L     \\\\\n\t 19.7 & 6 & 145.0 & 175 & 3.62 & Ferrari Dino       \\\\\n\t 15.0 & 8 & 301.0 & 335 & 3.54 & Maserati Bora      \\\\\n\t 21.4 & 4 & 121.0 & 109 & 4.11 & Volvo 142E         \\\\\n\\end{tabular}\n",
            "text/plain": [
              "   mpg  cyl disp  hp  drat model              \n",
              "1  21.0 6   160.0 110 3.90 Mazda RX4          \n",
              "2  21.0 6   160.0 110 3.90 Mazda RX4 Wag      \n",
              "3  22.8 4   108.0  93 3.85 Datsun 710         \n",
              "4  21.4 6   258.0 110 3.08 Hornet 4 Drive     \n",
              "5  18.7 8   360.0 175 3.15 Hornet Sportabout  \n",
              "6  18.1 6   225.0 105 2.76 Valiant            \n",
              "7  14.3 8   360.0 245 3.21 Duster 360         \n",
              "8  24.4 4   146.7  62 3.69 Merc 240D          \n",
              "9  22.8 4   140.8  95 3.92 Merc 230           \n",
              "10 19.2 6   167.6 123 3.92 Merc 280           \n",
              "11 17.8 6   167.6 123 3.92 Merc 280C          \n",
              "12 16.4 8   275.8 180 3.07 Merc 450SE         \n",
              "13 17.3 8   275.8 180 3.07 Merc 450SL         \n",
              "14 15.2 8   275.8 180 3.07 Merc 450SLC        \n",
              "15 10.4 8   472.0 205 2.93 Cadillac Fleetwood \n",
              "16 10.4 8   460.0 215 3.00 Lincoln Continental\n",
              "17 14.7 8   440.0 230 3.23 Chrysler Imperial  \n",
              "18 32.4 4    78.7  66 4.08 Fiat 128           \n",
              "19 30.4 4    75.7  52 4.93 Honda Civic        \n",
              "20 33.9 4    71.1  65 4.22 Toyota Corolla     \n",
              "21 21.5 4   120.1  97 3.70 Toyota Corona      \n",
              "22 15.5 8   318.0 150 2.76 Dodge Challenger   \n",
              "23 15.2 8   304.0 150 3.15 AMC Javelin        \n",
              "24 13.3 8   350.0 245 3.73 Camaro Z28         \n",
              "25 19.2 8   400.0 175 3.08 Pontiac Firebird   \n",
              "26 27.3 4    79.0  66 4.08 Fiat X1-9          \n",
              "27 26.0 4   120.3  91 4.43 Porsche 914-2      \n",
              "28 30.4 4    95.1 113 3.77 Lotus Europa       \n",
              "29 15.8 8   351.0 264 4.22 Ford Pantera L     \n",
              "30 19.7 6   145.0 175 3.62 Ferrari Dino       \n",
              "31 15.0 8   301.0 335 3.54 Maserati Bora      \n",
              "32 21.4 4   121.0 109 4.11 Volvo 142E         "
            ]
          },
          "metadata": {}
        }
      ]
    },
    {
      "cell_type": "code",
      "source": [
        "# select columns by column name and number\n",
        "\n",
        "select(mtcars, hp, model, 5)"
      ],
      "metadata": {
        "colab": {
          "base_uri": "https://localhost:8080/",
          "height": 1000
        },
        "id": "UPn9i_SMq-Fp",
        "outputId": "d21999c3-aa99-4011-b94c-d65ce2c7b780"
      },
      "execution_count": 107,
      "outputs": [
        {
          "output_type": "display_data",
          "data": {
            "text/html": [
              "<table class=\"dataframe\">\n",
              "<caption>A data.frame: 32 × 3</caption>\n",
              "<thead>\n",
              "\t<tr><th scope=col>hp</th><th scope=col>model</th><th scope=col>drat</th></tr>\n",
              "\t<tr><th scope=col>&lt;dbl&gt;</th><th scope=col>&lt;chr&gt;</th><th scope=col>&lt;dbl&gt;</th></tr>\n",
              "</thead>\n",
              "<tbody>\n",
              "\t<tr><td>110</td><td>Mazda RX4          </td><td>3.90</td></tr>\n",
              "\t<tr><td>110</td><td>Mazda RX4 Wag      </td><td>3.90</td></tr>\n",
              "\t<tr><td> 93</td><td>Datsun 710         </td><td>3.85</td></tr>\n",
              "\t<tr><td>110</td><td>Hornet 4 Drive     </td><td>3.08</td></tr>\n",
              "\t<tr><td>175</td><td>Hornet Sportabout  </td><td>3.15</td></tr>\n",
              "\t<tr><td>105</td><td>Valiant            </td><td>2.76</td></tr>\n",
              "\t<tr><td>245</td><td>Duster 360         </td><td>3.21</td></tr>\n",
              "\t<tr><td> 62</td><td>Merc 240D          </td><td>3.69</td></tr>\n",
              "\t<tr><td> 95</td><td>Merc 230           </td><td>3.92</td></tr>\n",
              "\t<tr><td>123</td><td>Merc 280           </td><td>3.92</td></tr>\n",
              "\t<tr><td>123</td><td>Merc 280C          </td><td>3.92</td></tr>\n",
              "\t<tr><td>180</td><td>Merc 450SE         </td><td>3.07</td></tr>\n",
              "\t<tr><td>180</td><td>Merc 450SL         </td><td>3.07</td></tr>\n",
              "\t<tr><td>180</td><td>Merc 450SLC        </td><td>3.07</td></tr>\n",
              "\t<tr><td>205</td><td>Cadillac Fleetwood </td><td>2.93</td></tr>\n",
              "\t<tr><td>215</td><td>Lincoln Continental</td><td>3.00</td></tr>\n",
              "\t<tr><td>230</td><td>Chrysler Imperial  </td><td>3.23</td></tr>\n",
              "\t<tr><td> 66</td><td>Fiat 128           </td><td>4.08</td></tr>\n",
              "\t<tr><td> 52</td><td>Honda Civic        </td><td>4.93</td></tr>\n",
              "\t<tr><td> 65</td><td>Toyota Corolla     </td><td>4.22</td></tr>\n",
              "\t<tr><td> 97</td><td>Toyota Corona      </td><td>3.70</td></tr>\n",
              "\t<tr><td>150</td><td>Dodge Challenger   </td><td>2.76</td></tr>\n",
              "\t<tr><td>150</td><td>AMC Javelin        </td><td>3.15</td></tr>\n",
              "\t<tr><td>245</td><td>Camaro Z28         </td><td>3.73</td></tr>\n",
              "\t<tr><td>175</td><td>Pontiac Firebird   </td><td>3.08</td></tr>\n",
              "\t<tr><td> 66</td><td>Fiat X1-9          </td><td>4.08</td></tr>\n",
              "\t<tr><td> 91</td><td>Porsche 914-2      </td><td>4.43</td></tr>\n",
              "\t<tr><td>113</td><td>Lotus Europa       </td><td>3.77</td></tr>\n",
              "\t<tr><td>264</td><td>Ford Pantera L     </td><td>4.22</td></tr>\n",
              "\t<tr><td>175</td><td>Ferrari Dino       </td><td>3.62</td></tr>\n",
              "\t<tr><td>335</td><td>Maserati Bora      </td><td>3.54</td></tr>\n",
              "\t<tr><td>109</td><td>Volvo 142E         </td><td>4.11</td></tr>\n",
              "</tbody>\n",
              "</table>\n"
            ],
            "text/markdown": "\nA data.frame: 32 × 3\n\n| hp &lt;dbl&gt; | model &lt;chr&gt; | drat &lt;dbl&gt; |\n|---|---|---|\n| 110 | Mazda RX4           | 3.90 |\n| 110 | Mazda RX4 Wag       | 3.90 |\n|  93 | Datsun 710          | 3.85 |\n| 110 | Hornet 4 Drive      | 3.08 |\n| 175 | Hornet Sportabout   | 3.15 |\n| 105 | Valiant             | 2.76 |\n| 245 | Duster 360          | 3.21 |\n|  62 | Merc 240D           | 3.69 |\n|  95 | Merc 230            | 3.92 |\n| 123 | Merc 280            | 3.92 |\n| 123 | Merc 280C           | 3.92 |\n| 180 | Merc 450SE          | 3.07 |\n| 180 | Merc 450SL          | 3.07 |\n| 180 | Merc 450SLC         | 3.07 |\n| 205 | Cadillac Fleetwood  | 2.93 |\n| 215 | Lincoln Continental | 3.00 |\n| 230 | Chrysler Imperial   | 3.23 |\n|  66 | Fiat 128            | 4.08 |\n|  52 | Honda Civic         | 4.93 |\n|  65 | Toyota Corolla      | 4.22 |\n|  97 | Toyota Corona       | 3.70 |\n| 150 | Dodge Challenger    | 2.76 |\n| 150 | AMC Javelin         | 3.15 |\n| 245 | Camaro Z28          | 3.73 |\n| 175 | Pontiac Firebird    | 3.08 |\n|  66 | Fiat X1-9           | 4.08 |\n|  91 | Porsche 914-2       | 4.43 |\n| 113 | Lotus Europa        | 3.77 |\n| 264 | Ford Pantera L      | 4.22 |\n| 175 | Ferrari Dino        | 3.62 |\n| 335 | Maserati Bora       | 3.54 |\n| 109 | Volvo 142E          | 4.11 |\n\n",
            "text/latex": "A data.frame: 32 × 3\n\\begin{tabular}{lll}\n hp & model & drat\\\\\n <dbl> & <chr> & <dbl>\\\\\n\\hline\n\t 110 & Mazda RX4           & 3.90\\\\\n\t 110 & Mazda RX4 Wag       & 3.90\\\\\n\t  93 & Datsun 710          & 3.85\\\\\n\t 110 & Hornet 4 Drive      & 3.08\\\\\n\t 175 & Hornet Sportabout   & 3.15\\\\\n\t 105 & Valiant             & 2.76\\\\\n\t 245 & Duster 360          & 3.21\\\\\n\t  62 & Merc 240D           & 3.69\\\\\n\t  95 & Merc 230            & 3.92\\\\\n\t 123 & Merc 280            & 3.92\\\\\n\t 123 & Merc 280C           & 3.92\\\\\n\t 180 & Merc 450SE          & 3.07\\\\\n\t 180 & Merc 450SL          & 3.07\\\\\n\t 180 & Merc 450SLC         & 3.07\\\\\n\t 205 & Cadillac Fleetwood  & 2.93\\\\\n\t 215 & Lincoln Continental & 3.00\\\\\n\t 230 & Chrysler Imperial   & 3.23\\\\\n\t  66 & Fiat 128            & 4.08\\\\\n\t  52 & Honda Civic         & 4.93\\\\\n\t  65 & Toyota Corolla      & 4.22\\\\\n\t  97 & Toyota Corona       & 3.70\\\\\n\t 150 & Dodge Challenger    & 2.76\\\\\n\t 150 & AMC Javelin         & 3.15\\\\\n\t 245 & Camaro Z28          & 3.73\\\\\n\t 175 & Pontiac Firebird    & 3.08\\\\\n\t  66 & Fiat X1-9           & 4.08\\\\\n\t  91 & Porsche 914-2       & 4.43\\\\\n\t 113 & Lotus Europa        & 3.77\\\\\n\t 264 & Ford Pantera L      & 4.22\\\\\n\t 175 & Ferrari Dino        & 3.62\\\\\n\t 335 & Maserati Bora       & 3.54\\\\\n\t 109 & Volvo 142E          & 4.11\\\\\n\\end{tabular}\n",
            "text/plain": [
              "   hp  model               drat\n",
              "1  110 Mazda RX4           3.90\n",
              "2  110 Mazda RX4 Wag       3.90\n",
              "3   93 Datsun 710          3.85\n",
              "4  110 Hornet 4 Drive      3.08\n",
              "5  175 Hornet Sportabout   3.15\n",
              "6  105 Valiant             2.76\n",
              "7  245 Duster 360          3.21\n",
              "8   62 Merc 240D           3.69\n",
              "9   95 Merc 230            3.92\n",
              "10 123 Merc 280            3.92\n",
              "11 123 Merc 280C           3.92\n",
              "12 180 Merc 450SE          3.07\n",
              "13 180 Merc 450SL          3.07\n",
              "14 180 Merc 450SLC         3.07\n",
              "15 205 Cadillac Fleetwood  2.93\n",
              "16 215 Lincoln Continental 3.00\n",
              "17 230 Chrysler Imperial   3.23\n",
              "18  66 Fiat 128            4.08\n",
              "19  52 Honda Civic         4.93\n",
              "20  65 Toyota Corolla      4.22\n",
              "21  97 Toyota Corona       3.70\n",
              "22 150 Dodge Challenger    2.76\n",
              "23 150 AMC Javelin         3.15\n",
              "24 245 Camaro Z28          3.73\n",
              "25 175 Pontiac Firebird    3.08\n",
              "26  66 Fiat X1-9           4.08\n",
              "27  91 Porsche 914-2       4.43\n",
              "28 113 Lotus Europa        3.77\n",
              "29 264 Ford Pantera L      4.22\n",
              "30 175 Ferrari Dino        3.62\n",
              "31 335 Maserati Bora       3.54\n",
              "32 109 Volvo 142E          4.11"
            ]
          },
          "metadata": {}
        }
      ]
    },
    {
      "cell_type": "code",
      "source": [
        "# select columns by conditions\n",
        "\n",
        "select(mtcars,contains(\"z\"))"
      ],
      "metadata": {
        "colab": {
          "base_uri": "https://localhost:8080/",
          "height": 1000
        },
        "id": "6LKxaZa-rHrk",
        "outputId": "995012e4-3a25-4eab-ffe3-dde71e664bfd"
      },
      "execution_count": 108,
      "outputs": [
        {
          "output_type": "display_data",
          "data": {
            "text/html": [
              "<table class=\"dataframe\">\n",
              "<caption>A data.frame: 32 × 3</caption>\n",
              "<thead>\n",
              "\t<tr><th scope=col>mpg</th><th scope=col>am</th><th scope=col>model</th></tr>\n",
              "\t<tr><th scope=col>&lt;dbl&gt;</th><th scope=col>&lt;dbl&gt;</th><th scope=col>&lt;chr&gt;</th></tr>\n",
              "</thead>\n",
              "<tbody>\n",
              "\t<tr><td>21.0</td><td>1</td><td>Mazda RX4          </td></tr>\n",
              "\t<tr><td>21.0</td><td>1</td><td>Mazda RX4 Wag      </td></tr>\n",
              "\t<tr><td>22.8</td><td>1</td><td>Datsun 710         </td></tr>\n",
              "\t<tr><td>21.4</td><td>0</td><td>Hornet 4 Drive     </td></tr>\n",
              "\t<tr><td>18.7</td><td>0</td><td>Hornet Sportabout  </td></tr>\n",
              "\t<tr><td>18.1</td><td>0</td><td>Valiant            </td></tr>\n",
              "\t<tr><td>14.3</td><td>0</td><td>Duster 360         </td></tr>\n",
              "\t<tr><td>24.4</td><td>0</td><td>Merc 240D          </td></tr>\n",
              "\t<tr><td>22.8</td><td>0</td><td>Merc 230           </td></tr>\n",
              "\t<tr><td>19.2</td><td>0</td><td>Merc 280           </td></tr>\n",
              "\t<tr><td>17.8</td><td>0</td><td>Merc 280C          </td></tr>\n",
              "\t<tr><td>16.4</td><td>0</td><td>Merc 450SE         </td></tr>\n",
              "\t<tr><td>17.3</td><td>0</td><td>Merc 450SL         </td></tr>\n",
              "\t<tr><td>15.2</td><td>0</td><td>Merc 450SLC        </td></tr>\n",
              "\t<tr><td>10.4</td><td>0</td><td>Cadillac Fleetwood </td></tr>\n",
              "\t<tr><td>10.4</td><td>0</td><td>Lincoln Continental</td></tr>\n",
              "\t<tr><td>14.7</td><td>0</td><td>Chrysler Imperial  </td></tr>\n",
              "\t<tr><td>32.4</td><td>1</td><td>Fiat 128           </td></tr>\n",
              "\t<tr><td>30.4</td><td>1</td><td>Honda Civic        </td></tr>\n",
              "\t<tr><td>33.9</td><td>1</td><td>Toyota Corolla     </td></tr>\n",
              "\t<tr><td>21.5</td><td>0</td><td>Toyota Corona      </td></tr>\n",
              "\t<tr><td>15.5</td><td>0</td><td>Dodge Challenger   </td></tr>\n",
              "\t<tr><td>15.2</td><td>0</td><td>AMC Javelin        </td></tr>\n",
              "\t<tr><td>13.3</td><td>0</td><td>Camaro Z28         </td></tr>\n",
              "\t<tr><td>19.2</td><td>0</td><td>Pontiac Firebird   </td></tr>\n",
              "\t<tr><td>27.3</td><td>1</td><td>Fiat X1-9          </td></tr>\n",
              "\t<tr><td>26.0</td><td>1</td><td>Porsche 914-2      </td></tr>\n",
              "\t<tr><td>30.4</td><td>1</td><td>Lotus Europa       </td></tr>\n",
              "\t<tr><td>15.8</td><td>1</td><td>Ford Pantera L     </td></tr>\n",
              "\t<tr><td>19.7</td><td>1</td><td>Ferrari Dino       </td></tr>\n",
              "\t<tr><td>15.0</td><td>1</td><td>Maserati Bora      </td></tr>\n",
              "\t<tr><td>21.4</td><td>1</td><td>Volvo 142E         </td></tr>\n",
              "</tbody>\n",
              "</table>\n"
            ],
            "text/markdown": "\nA data.frame: 32 × 3\n\n| mpg &lt;dbl&gt; | am &lt;dbl&gt; | model &lt;chr&gt; |\n|---|---|---|\n| 21.0 | 1 | Mazda RX4           |\n| 21.0 | 1 | Mazda RX4 Wag       |\n| 22.8 | 1 | Datsun 710          |\n| 21.4 | 0 | Hornet 4 Drive      |\n| 18.7 | 0 | Hornet Sportabout   |\n| 18.1 | 0 | Valiant             |\n| 14.3 | 0 | Duster 360          |\n| 24.4 | 0 | Merc 240D           |\n| 22.8 | 0 | Merc 230            |\n| 19.2 | 0 | Merc 280            |\n| 17.8 | 0 | Merc 280C           |\n| 16.4 | 0 | Merc 450SE          |\n| 17.3 | 0 | Merc 450SL          |\n| 15.2 | 0 | Merc 450SLC         |\n| 10.4 | 0 | Cadillac Fleetwood  |\n| 10.4 | 0 | Lincoln Continental |\n| 14.7 | 0 | Chrysler Imperial   |\n| 32.4 | 1 | Fiat 128            |\n| 30.4 | 1 | Honda Civic         |\n| 33.9 | 1 | Toyota Corolla      |\n| 21.5 | 0 | Toyota Corona       |\n| 15.5 | 0 | Dodge Challenger    |\n| 15.2 | 0 | AMC Javelin         |\n| 13.3 | 0 | Camaro Z28          |\n| 19.2 | 0 | Pontiac Firebird    |\n| 27.3 | 1 | Fiat X1-9           |\n| 26.0 | 1 | Porsche 914-2       |\n| 30.4 | 1 | Lotus Europa        |\n| 15.8 | 1 | Ford Pantera L      |\n| 19.7 | 1 | Ferrari Dino        |\n| 15.0 | 1 | Maserati Bora       |\n| 21.4 | 1 | Volvo 142E          |\n\n",
            "text/latex": "A data.frame: 32 × 3\n\\begin{tabular}{lll}\n mpg & am & model\\\\\n <dbl> & <dbl> & <chr>\\\\\n\\hline\n\t 21.0 & 1 & Mazda RX4          \\\\\n\t 21.0 & 1 & Mazda RX4 Wag      \\\\\n\t 22.8 & 1 & Datsun 710         \\\\\n\t 21.4 & 0 & Hornet 4 Drive     \\\\\n\t 18.7 & 0 & Hornet Sportabout  \\\\\n\t 18.1 & 0 & Valiant            \\\\\n\t 14.3 & 0 & Duster 360         \\\\\n\t 24.4 & 0 & Merc 240D          \\\\\n\t 22.8 & 0 & Merc 230           \\\\\n\t 19.2 & 0 & Merc 280           \\\\\n\t 17.8 & 0 & Merc 280C          \\\\\n\t 16.4 & 0 & Merc 450SE         \\\\\n\t 17.3 & 0 & Merc 450SL         \\\\\n\t 15.2 & 0 & Merc 450SLC        \\\\\n\t 10.4 & 0 & Cadillac Fleetwood \\\\\n\t 10.4 & 0 & Lincoln Continental\\\\\n\t 14.7 & 0 & Chrysler Imperial  \\\\\n\t 32.4 & 1 & Fiat 128           \\\\\n\t 30.4 & 1 & Honda Civic        \\\\\n\t 33.9 & 1 & Toyota Corolla     \\\\\n\t 21.5 & 0 & Toyota Corona      \\\\\n\t 15.5 & 0 & Dodge Challenger   \\\\\n\t 15.2 & 0 & AMC Javelin        \\\\\n\t 13.3 & 0 & Camaro Z28         \\\\\n\t 19.2 & 0 & Pontiac Firebird   \\\\\n\t 27.3 & 1 & Fiat X1-9          \\\\\n\t 26.0 & 1 & Porsche 914-2      \\\\\n\t 30.4 & 1 & Lotus Europa       \\\\\n\t 15.8 & 1 & Ford Pantera L     \\\\\n\t 19.7 & 1 & Ferrari Dino       \\\\\n\t 15.0 & 1 & Maserati Bora      \\\\\n\t 21.4 & 1 & Volvo 142E         \\\\\n\\end{tabular}\n",
            "text/plain": [
              "   mpg  am model              \n",
              "1  21.0 1  Mazda RX4          \n",
              "2  21.0 1  Mazda RX4 Wag      \n",
              "3  22.8 1  Datsun 710         \n",
              "4  21.4 0  Hornet 4 Drive     \n",
              "5  18.7 0  Hornet Sportabout  \n",
              "6  18.1 0  Valiant            \n",
              "7  14.3 0  Duster 360         \n",
              "8  24.4 0  Merc 240D          \n",
              "9  22.8 0  Merc 230           \n",
              "10 19.2 0  Merc 280           \n",
              "11 17.8 0  Merc 280C          \n",
              "12 16.4 0  Merc 450SE         \n",
              "13 17.3 0  Merc 450SL         \n",
              "14 15.2 0  Merc 450SLC        \n",
              "15 10.4 0  Cadillac Fleetwood \n",
              "16 10.4 0  Lincoln Continental\n",
              "17 14.7 0  Chrysler Imperial  \n",
              "18 32.4 1  Fiat 128           \n",
              "19 30.4 1  Honda Civic        \n",
              "20 33.9 1  Toyota Corolla     \n",
              "21 21.5 0  Toyota Corona      \n",
              "22 15.5 0  Dodge Challenger   \n",
              "23 15.2 0  AMC Javelin        \n",
              "24 13.3 0  Camaro Z28         \n",
              "25 19.2 0  Pontiac Firebird   \n",
              "26 27.3 1  Fiat X1-9          \n",
              "27 26.0 1  Porsche 914-2      \n",
              "28 30.4 1  Lotus Europa       \n",
              "29 15.8 1  Ford Pantera L     \n",
              "30 19.7 1  Ferrari Dino       \n",
              "31 15.0 1  Maserati Bora      \n",
              "32 21.4 1  Volvo 142E         "
            ]
          },
          "metadata": {}
        }
      ]
    },
    {
      "cell_type": "code",
      "source": [
        "## Data Transformation Pipeline\n",
        "# using %>% or |> to create a pipeline\n",
        "\n",
        "## data transformation pipeline\n",
        "# data %>%\n",
        "#     select() %>%\n",
        "#     filter() %>%\n",
        "#     arrange() %>%\n",
        "#     mutate() %>%\n",
        "#     summarise() %>%\n",
        "\n",
        "mtcars %>%\n",
        "  select(model, hp) %>%\n",
        "  filter(hp>200)"
      ],
      "metadata": {
        "colab": {
          "base_uri": "https://localhost:8080/",
          "height": 317
        },
        "id": "t071NlPYrJ31",
        "outputId": "cb01bb36-fa9f-42d2-931e-9cbb910cf9b6"
      },
      "execution_count": 109,
      "outputs": [
        {
          "output_type": "display_data",
          "data": {
            "text/html": [
              "<table class=\"dataframe\">\n",
              "<caption>A data.frame: 7 × 2</caption>\n",
              "<thead>\n",
              "\t<tr><th scope=col>model</th><th scope=col>hp</th></tr>\n",
              "\t<tr><th scope=col>&lt;chr&gt;</th><th scope=col>&lt;dbl&gt;</th></tr>\n",
              "</thead>\n",
              "<tbody>\n",
              "\t<tr><td>Duster 360         </td><td>245</td></tr>\n",
              "\t<tr><td>Cadillac Fleetwood </td><td>205</td></tr>\n",
              "\t<tr><td>Lincoln Continental</td><td>215</td></tr>\n",
              "\t<tr><td>Chrysler Imperial  </td><td>230</td></tr>\n",
              "\t<tr><td>Camaro Z28         </td><td>245</td></tr>\n",
              "\t<tr><td>Ford Pantera L     </td><td>264</td></tr>\n",
              "\t<tr><td>Maserati Bora      </td><td>335</td></tr>\n",
              "</tbody>\n",
              "</table>\n"
            ],
            "text/markdown": "\nA data.frame: 7 × 2\n\n| model &lt;chr&gt; | hp &lt;dbl&gt; |\n|---|---|\n| Duster 360          | 245 |\n| Cadillac Fleetwood  | 205 |\n| Lincoln Continental | 215 |\n| Chrysler Imperial   | 230 |\n| Camaro Z28          | 245 |\n| Ford Pantera L      | 264 |\n| Maserati Bora       | 335 |\n\n",
            "text/latex": "A data.frame: 7 × 2\n\\begin{tabular}{ll}\n model & hp\\\\\n <chr> & <dbl>\\\\\n\\hline\n\t Duster 360          & 245\\\\\n\t Cadillac Fleetwood  & 205\\\\\n\t Lincoln Continental & 215\\\\\n\t Chrysler Imperial   & 230\\\\\n\t Camaro Z28          & 245\\\\\n\t Ford Pantera L      & 264\\\\\n\t Maserati Bora       & 335\\\\\n\\end{tabular}\n",
            "text/plain": [
              "  model               hp \n",
              "1 Duster 360          245\n",
              "2 Cadillac Fleetwood  205\n",
              "3 Lincoln Continental 215\n",
              "4 Chrysler Imperial   230\n",
              "5 Camaro Z28          245\n",
              "6 Ford Pantera L      264\n",
              "7 Maserati Bora       335"
            ]
          },
          "metadata": {}
        }
      ]
    },
    {
      "cell_type": "code",
      "source": [
        "mtcars %>%\n",
        "  select(model, hp, wt, am) |>\n",
        "  filter((hp>=200 & wt < 5) | (am = 0))"
      ],
      "metadata": {
        "colab": {
          "base_uri": "https://localhost:8080/",
          "height": 223
        },
        "id": "1IU7kQTOrS2p",
        "outputId": "5f9e3d90-4f12-4f53-bf52-856a55d22fad"
      },
      "execution_count": 110,
      "outputs": [
        {
          "output_type": "display_data",
          "data": {
            "text/html": [
              "<table class=\"dataframe\">\n",
              "<caption>A data.frame: 4 × 4</caption>\n",
              "<thead>\n",
              "\t<tr><th scope=col>model</th><th scope=col>hp</th><th scope=col>wt</th><th scope=col>am</th></tr>\n",
              "\t<tr><th scope=col>&lt;chr&gt;</th><th scope=col>&lt;dbl&gt;</th><th scope=col>&lt;dbl&gt;</th><th scope=col>&lt;dbl&gt;</th></tr>\n",
              "</thead>\n",
              "<tbody>\n",
              "\t<tr><td>Duster 360    </td><td>245</td><td>3.57</td><td>0</td></tr>\n",
              "\t<tr><td>Camaro Z28    </td><td>245</td><td>3.84</td><td>0</td></tr>\n",
              "\t<tr><td>Ford Pantera L</td><td>264</td><td>3.17</td><td>1</td></tr>\n",
              "\t<tr><td>Maserati Bora </td><td>335</td><td>3.57</td><td>1</td></tr>\n",
              "</tbody>\n",
              "</table>\n"
            ],
            "text/markdown": "\nA data.frame: 4 × 4\n\n| model &lt;chr&gt; | hp &lt;dbl&gt; | wt &lt;dbl&gt; | am &lt;dbl&gt; |\n|---|---|---|---|\n| Duster 360     | 245 | 3.57 | 0 |\n| Camaro Z28     | 245 | 3.84 | 0 |\n| Ford Pantera L | 264 | 3.17 | 1 |\n| Maserati Bora  | 335 | 3.57 | 1 |\n\n",
            "text/latex": "A data.frame: 4 × 4\n\\begin{tabular}{llll}\n model & hp & wt & am\\\\\n <chr> & <dbl> & <dbl> & <dbl>\\\\\n\\hline\n\t Duster 360     & 245 & 3.57 & 0\\\\\n\t Camaro Z28     & 245 & 3.84 & 0\\\\\n\t Ford Pantera L & 264 & 3.17 & 1\\\\\n\t Maserati Bora  & 335 & 3.57 & 1\\\\\n\\end{tabular}\n",
            "text/plain": [
              "  model          hp  wt   am\n",
              "1 Duster 360     245 3.57 0 \n",
              "2 Camaro Z28     245 3.84 0 \n",
              "3 Ford Pantera L 264 3.17 1 \n",
              "4 Maserati Bora  335 3.57 1 "
            ]
          },
          "metadata": {}
        }
      ]
    },
    {
      "cell_type": "code",
      "source": [
        "mtcars %>%\n",
        "  select(model, hp, wt, am) |>\n",
        "  filter(between(hp, 100, 123))"
      ],
      "metadata": {
        "colab": {
          "base_uri": "https://localhost:8080/",
          "height": 349
        },
        "id": "ErTuF4mBsCTi",
        "outputId": "a28297c1-550e-4d17-f784-ea84a3ca5d35"
      },
      "execution_count": 111,
      "outputs": [
        {
          "output_type": "display_data",
          "data": {
            "text/html": [
              "<table class=\"dataframe\">\n",
              "<caption>A data.frame: 8 × 4</caption>\n",
              "<thead>\n",
              "\t<tr><th scope=col>model</th><th scope=col>hp</th><th scope=col>wt</th><th scope=col>am</th></tr>\n",
              "\t<tr><th scope=col>&lt;chr&gt;</th><th scope=col>&lt;dbl&gt;</th><th scope=col>&lt;dbl&gt;</th><th scope=col>&lt;dbl&gt;</th></tr>\n",
              "</thead>\n",
              "<tbody>\n",
              "\t<tr><td>Mazda RX4     </td><td>110</td><td>2.620</td><td>1</td></tr>\n",
              "\t<tr><td>Mazda RX4 Wag </td><td>110</td><td>2.875</td><td>1</td></tr>\n",
              "\t<tr><td>Hornet 4 Drive</td><td>110</td><td>3.215</td><td>0</td></tr>\n",
              "\t<tr><td>Valiant       </td><td>105</td><td>3.460</td><td>0</td></tr>\n",
              "\t<tr><td>Merc 280      </td><td>123</td><td>3.440</td><td>0</td></tr>\n",
              "\t<tr><td>Merc 280C     </td><td>123</td><td>3.440</td><td>0</td></tr>\n",
              "\t<tr><td>Lotus Europa  </td><td>113</td><td>1.513</td><td>1</td></tr>\n",
              "\t<tr><td>Volvo 142E    </td><td>109</td><td>2.780</td><td>1</td></tr>\n",
              "</tbody>\n",
              "</table>\n"
            ],
            "text/markdown": "\nA data.frame: 8 × 4\n\n| model &lt;chr&gt; | hp &lt;dbl&gt; | wt &lt;dbl&gt; | am &lt;dbl&gt; |\n|---|---|---|---|\n| Mazda RX4      | 110 | 2.620 | 1 |\n| Mazda RX4 Wag  | 110 | 2.875 | 1 |\n| Hornet 4 Drive | 110 | 3.215 | 0 |\n| Valiant        | 105 | 3.460 | 0 |\n| Merc 280       | 123 | 3.440 | 0 |\n| Merc 280C      | 123 | 3.440 | 0 |\n| Lotus Europa   | 113 | 1.513 | 1 |\n| Volvo 142E     | 109 | 2.780 | 1 |\n\n",
            "text/latex": "A data.frame: 8 × 4\n\\begin{tabular}{llll}\n model & hp & wt & am\\\\\n <chr> & <dbl> & <dbl> & <dbl>\\\\\n\\hline\n\t Mazda RX4      & 110 & 2.620 & 1\\\\\n\t Mazda RX4 Wag  & 110 & 2.875 & 1\\\\\n\t Hornet 4 Drive & 110 & 3.215 & 0\\\\\n\t Valiant        & 105 & 3.460 & 0\\\\\n\t Merc 280       & 123 & 3.440 & 0\\\\\n\t Merc 280C      & 123 & 3.440 & 0\\\\\n\t Lotus Europa   & 113 & 1.513 & 1\\\\\n\t Volvo 142E     & 109 & 2.780 & 1\\\\\n\\end{tabular}\n",
            "text/plain": [
              "  model          hp  wt    am\n",
              "1 Mazda RX4      110 2.620 1 \n",
              "2 Mazda RX4 Wag  110 2.875 1 \n",
              "3 Hornet 4 Drive 110 3.215 0 \n",
              "4 Valiant        105 3.460 0 \n",
              "5 Merc 280       123 3.440 0 \n",
              "6 Merc 280C      123 3.440 0 \n",
              "7 Lotus Europa   113 1.513 1 \n",
              "8 Volvo 142E     109 2.780 1 "
            ]
          },
          "metadata": {}
        }
      ]
    },
    {
      "cell_type": "code",
      "source": [
        "mtcars %>%\n",
        "  select(model, hp, wt, am) |>\n",
        "  filter(grepl(\"^M\", model)) |>\n",
        "  arrange(am ,desc(hp))"
      ],
      "metadata": {
        "colab": {
          "base_uri": "https://localhost:8080/",
          "height": 411
        },
        "id": "hEejVBSHsK_f",
        "outputId": "2a924b99-cafa-49c4-ff3c-6ca3eb72be71"
      },
      "execution_count": 112,
      "outputs": [
        {
          "output_type": "display_data",
          "data": {
            "text/html": [
              "<table class=\"dataframe\">\n",
              "<caption>A data.frame: 10 × 4</caption>\n",
              "<thead>\n",
              "\t<tr><th scope=col>model</th><th scope=col>hp</th><th scope=col>wt</th><th scope=col>am</th></tr>\n",
              "\t<tr><th scope=col>&lt;chr&gt;</th><th scope=col>&lt;dbl&gt;</th><th scope=col>&lt;dbl&gt;</th><th scope=col>&lt;dbl&gt;</th></tr>\n",
              "</thead>\n",
              "<tbody>\n",
              "\t<tr><td>Merc 450SE   </td><td>180</td><td>4.070</td><td>0</td></tr>\n",
              "\t<tr><td>Merc 450SL   </td><td>180</td><td>3.730</td><td>0</td></tr>\n",
              "\t<tr><td>Merc 450SLC  </td><td>180</td><td>3.780</td><td>0</td></tr>\n",
              "\t<tr><td>Merc 280     </td><td>123</td><td>3.440</td><td>0</td></tr>\n",
              "\t<tr><td>Merc 280C    </td><td>123</td><td>3.440</td><td>0</td></tr>\n",
              "\t<tr><td>Merc 230     </td><td> 95</td><td>3.150</td><td>0</td></tr>\n",
              "\t<tr><td>Merc 240D    </td><td> 62</td><td>3.190</td><td>0</td></tr>\n",
              "\t<tr><td>Maserati Bora</td><td>335</td><td>3.570</td><td>1</td></tr>\n",
              "\t<tr><td>Mazda RX4    </td><td>110</td><td>2.620</td><td>1</td></tr>\n",
              "\t<tr><td>Mazda RX4 Wag</td><td>110</td><td>2.875</td><td>1</td></tr>\n",
              "</tbody>\n",
              "</table>\n"
            ],
            "text/markdown": "\nA data.frame: 10 × 4\n\n| model &lt;chr&gt; | hp &lt;dbl&gt; | wt &lt;dbl&gt; | am &lt;dbl&gt; |\n|---|---|---|---|\n| Merc 450SE    | 180 | 4.070 | 0 |\n| Merc 450SL    | 180 | 3.730 | 0 |\n| Merc 450SLC   | 180 | 3.780 | 0 |\n| Merc 280      | 123 | 3.440 | 0 |\n| Merc 280C     | 123 | 3.440 | 0 |\n| Merc 230      |  95 | 3.150 | 0 |\n| Merc 240D     |  62 | 3.190 | 0 |\n| Maserati Bora | 335 | 3.570 | 1 |\n| Mazda RX4     | 110 | 2.620 | 1 |\n| Mazda RX4 Wag | 110 | 2.875 | 1 |\n\n",
            "text/latex": "A data.frame: 10 × 4\n\\begin{tabular}{llll}\n model & hp & wt & am\\\\\n <chr> & <dbl> & <dbl> & <dbl>\\\\\n\\hline\n\t Merc 450SE    & 180 & 4.070 & 0\\\\\n\t Merc 450SL    & 180 & 3.730 & 0\\\\\n\t Merc 450SLC   & 180 & 3.780 & 0\\\\\n\t Merc 280      & 123 & 3.440 & 0\\\\\n\t Merc 280C     & 123 & 3.440 & 0\\\\\n\t Merc 230      &  95 & 3.150 & 0\\\\\n\t Merc 240D     &  62 & 3.190 & 0\\\\\n\t Maserati Bora & 335 & 3.570 & 1\\\\\n\t Mazda RX4     & 110 & 2.620 & 1\\\\\n\t Mazda RX4 Wag & 110 & 2.875 & 1\\\\\n\\end{tabular}\n",
            "text/plain": [
              "   model         hp  wt    am\n",
              "1  Merc 450SE    180 4.070 0 \n",
              "2  Merc 450SL    180 3.730 0 \n",
              "3  Merc 450SLC   180 3.780 0 \n",
              "4  Merc 280      123 3.440 0 \n",
              "5  Merc 280C     123 3.440 0 \n",
              "6  Merc 230       95 3.150 0 \n",
              "7  Merc 240D      62 3.190 0 \n",
              "8  Maserati Bora 335 3.570 1 \n",
              "9  Mazda RX4     110 2.620 1 \n",
              "10 Mazda RX4 Wag 110 2.875 1 "
            ]
          },
          "metadata": {}
        }
      ]
    },
    {
      "cell_type": "code",
      "source": [
        "# mutate\n",
        "\n",
        "mtcars |>\n",
        "  filter(hp > 200) |>\n",
        "  select(model,am,hp) |>\n",
        "  mutate(am_label = ifelse(am ==0, \"Auto\", \"Manual\"),\n",
        "        hp_double = hp*2)"
      ],
      "metadata": {
        "colab": {
          "base_uri": "https://localhost:8080/",
          "height": 317
        },
        "id": "5RqaVAepsYrY",
        "outputId": "05df0a2c-c758-41a3-9095-72bbc8bab16b"
      },
      "execution_count": 113,
      "outputs": [
        {
          "output_type": "display_data",
          "data": {
            "text/html": [
              "<table class=\"dataframe\">\n",
              "<caption>A data.frame: 7 × 5</caption>\n",
              "<thead>\n",
              "\t<tr><th scope=col>model</th><th scope=col>am</th><th scope=col>hp</th><th scope=col>am_label</th><th scope=col>hp_double</th></tr>\n",
              "\t<tr><th scope=col>&lt;chr&gt;</th><th scope=col>&lt;dbl&gt;</th><th scope=col>&lt;dbl&gt;</th><th scope=col>&lt;chr&gt;</th><th scope=col>&lt;dbl&gt;</th></tr>\n",
              "</thead>\n",
              "<tbody>\n",
              "\t<tr><td>Duster 360         </td><td>0</td><td>245</td><td>Auto  </td><td>490</td></tr>\n",
              "\t<tr><td>Cadillac Fleetwood </td><td>0</td><td>205</td><td>Auto  </td><td>410</td></tr>\n",
              "\t<tr><td>Lincoln Continental</td><td>0</td><td>215</td><td>Auto  </td><td>430</td></tr>\n",
              "\t<tr><td>Chrysler Imperial  </td><td>0</td><td>230</td><td>Auto  </td><td>460</td></tr>\n",
              "\t<tr><td>Camaro Z28         </td><td>0</td><td>245</td><td>Auto  </td><td>490</td></tr>\n",
              "\t<tr><td>Ford Pantera L     </td><td>1</td><td>264</td><td>Manual</td><td>528</td></tr>\n",
              "\t<tr><td>Maserati Bora      </td><td>1</td><td>335</td><td>Manual</td><td>670</td></tr>\n",
              "</tbody>\n",
              "</table>\n"
            ],
            "text/markdown": "\nA data.frame: 7 × 5\n\n| model &lt;chr&gt; | am &lt;dbl&gt; | hp &lt;dbl&gt; | am_label &lt;chr&gt; | hp_double &lt;dbl&gt; |\n|---|---|---|---|---|\n| Duster 360          | 0 | 245 | Auto   | 490 |\n| Cadillac Fleetwood  | 0 | 205 | Auto   | 410 |\n| Lincoln Continental | 0 | 215 | Auto   | 430 |\n| Chrysler Imperial   | 0 | 230 | Auto   | 460 |\n| Camaro Z28          | 0 | 245 | Auto   | 490 |\n| Ford Pantera L      | 1 | 264 | Manual | 528 |\n| Maserati Bora       | 1 | 335 | Manual | 670 |\n\n",
            "text/latex": "A data.frame: 7 × 5\n\\begin{tabular}{lllll}\n model & am & hp & am\\_label & hp\\_double\\\\\n <chr> & <dbl> & <dbl> & <chr> & <dbl>\\\\\n\\hline\n\t Duster 360          & 0 & 245 & Auto   & 490\\\\\n\t Cadillac Fleetwood  & 0 & 205 & Auto   & 410\\\\\n\t Lincoln Continental & 0 & 215 & Auto   & 430\\\\\n\t Chrysler Imperial   & 0 & 230 & Auto   & 460\\\\\n\t Camaro Z28          & 0 & 245 & Auto   & 490\\\\\n\t Ford Pantera L      & 1 & 264 & Manual & 528\\\\\n\t Maserati Bora       & 1 & 335 & Manual & 670\\\\\n\\end{tabular}\n",
            "text/plain": [
              "  model               am hp  am_label hp_double\n",
              "1 Duster 360          0  245 Auto     490      \n",
              "2 Cadillac Fleetwood  0  205 Auto     410      \n",
              "3 Lincoln Continental 0  215 Auto     430      \n",
              "4 Chrysler Imperial   0  230 Auto     460      \n",
              "5 Camaro Z28          0  245 Auto     490      \n",
              "6 Ford Pantera L      1  264 Manual   528      \n",
              "7 Maserati Bora       1  335 Manual   670      "
            ]
          },
          "metadata": {}
        }
      ]
    },
    {
      "cell_type": "code",
      "source": [
        "# summarise => SQL aggregate function\n",
        "\n",
        "mtcars |>\n",
        "  summarise(mean_hp = mean(hp),\n",
        "            sum_hp = sum(hp),\n",
        "            median_hp = median(hp),\n",
        "            sd_hp= sd(hp),\n",
        "            n = n())"
      ],
      "metadata": {
        "colab": {
          "base_uri": "https://localhost:8080/",
          "height": 129
        },
        "id": "kc_JKJC8u-WN",
        "outputId": "b15b8363-4c8c-4b02-b0e9-c02efafbb2fc"
      },
      "execution_count": 114,
      "outputs": [
        {
          "output_type": "display_data",
          "data": {
            "text/html": [
              "<table class=\"dataframe\">\n",
              "<caption>A data.frame: 1 × 5</caption>\n",
              "<thead>\n",
              "\t<tr><th scope=col>mean_hp</th><th scope=col>sum_hp</th><th scope=col>median_hp</th><th scope=col>sd_hp</th><th scope=col>n</th></tr>\n",
              "\t<tr><th scope=col>&lt;dbl&gt;</th><th scope=col>&lt;dbl&gt;</th><th scope=col>&lt;dbl&gt;</th><th scope=col>&lt;dbl&gt;</th><th scope=col>&lt;int&gt;</th></tr>\n",
              "</thead>\n",
              "<tbody>\n",
              "\t<tr><td>146.6875</td><td>4694</td><td>123</td><td>68.56287</td><td>32</td></tr>\n",
              "</tbody>\n",
              "</table>\n"
            ],
            "text/markdown": "\nA data.frame: 1 × 5\n\n| mean_hp &lt;dbl&gt; | sum_hp &lt;dbl&gt; | median_hp &lt;dbl&gt; | sd_hp &lt;dbl&gt; | n &lt;int&gt; |\n|---|---|---|---|---|\n| 146.6875 | 4694 | 123 | 68.56287 | 32 |\n\n",
            "text/latex": "A data.frame: 1 × 5\n\\begin{tabular}{lllll}\n mean\\_hp & sum\\_hp & median\\_hp & sd\\_hp & n\\\\\n <dbl> & <dbl> & <dbl> & <dbl> & <int>\\\\\n\\hline\n\t 146.6875 & 4694 & 123 & 68.56287 & 32\\\\\n\\end{tabular}\n",
            "text/plain": [
              "  mean_hp  sum_hp median_hp sd_hp    n \n",
              "1 146.6875 4694   123       68.56287 32"
            ]
          },
          "metadata": {}
        }
      ]
    }
  ]
}